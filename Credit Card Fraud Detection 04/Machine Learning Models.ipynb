{
 "cells": [
  {
   "cell_type": "markdown",
   "id": "4da8c0b0-2f68-45bd-ac0f-4e696bc641ad",
   "metadata": {},
   "source": [
    "### Load data"
   ]
  },
  {
   "cell_type": "code",
   "execution_count": 1,
   "id": "e05a0404-8021-4055-bc65-910831b5c35f",
   "metadata": {},
   "outputs": [
    {
     "data": {
      "text/html": [
       "<div>\n",
       "<style scoped>\n",
       "    .dataframe tbody tr th:only-of-type {\n",
       "        vertical-align: middle;\n",
       "    }\n",
       "\n",
       "    .dataframe tbody tr th {\n",
       "        vertical-align: top;\n",
       "    }\n",
       "\n",
       "    .dataframe thead th {\n",
       "        text-align: right;\n",
       "    }\n",
       "</style>\n",
       "<table border=\"1\" class=\"dataframe\">\n",
       "  <thead>\n",
       "    <tr style=\"text-align: right;\">\n",
       "      <th></th>\n",
       "      <th>V1</th>\n",
       "      <th>V2</th>\n",
       "      <th>V3</th>\n",
       "      <th>V4</th>\n",
       "      <th>V5</th>\n",
       "      <th>V6</th>\n",
       "      <th>V7</th>\n",
       "      <th>V8</th>\n",
       "      <th>V9</th>\n",
       "      <th>V10</th>\n",
       "      <th>...</th>\n",
       "      <th>V22</th>\n",
       "      <th>V23</th>\n",
       "      <th>V24</th>\n",
       "      <th>V25</th>\n",
       "      <th>V26</th>\n",
       "      <th>V27</th>\n",
       "      <th>V28</th>\n",
       "      <th>Amount</th>\n",
       "      <th>Class</th>\n",
       "      <th>Time_hours</th>\n",
       "    </tr>\n",
       "  </thead>\n",
       "  <tbody>\n",
       "    <tr>\n",
       "      <th>0</th>\n",
       "      <td>-1.071719</td>\n",
       "      <td>-4.343904</td>\n",
       "      <td>-0.497727</td>\n",
       "      <td>-0.277591</td>\n",
       "      <td>-2.482346</td>\n",
       "      <td>-0.472073</td>\n",
       "      <td>0.991747</td>\n",
       "      <td>-0.414207</td>\n",
       "      <td>1.694252</td>\n",
       "      <td>-1.744176</td>\n",
       "      <td>...</td>\n",
       "      <td>0.013647</td>\n",
       "      <td>-1.183439</td>\n",
       "      <td>0.536058</td>\n",
       "      <td>0.064148</td>\n",
       "      <td>-0.016945</td>\n",
       "      <td>-0.179133</td>\n",
       "      <td>0.236036</td>\n",
       "      <td>35.112713</td>\n",
       "      <td>0</td>\n",
       "      <td>10.356389</td>\n",
       "    </tr>\n",
       "    <tr>\n",
       "      <th>1</th>\n",
       "      <td>1.314915</td>\n",
       "      <td>-0.980378</td>\n",
       "      <td>-0.032665</td>\n",
       "      <td>-2.770975</td>\n",
       "      <td>-1.047365</td>\n",
       "      <td>-0.705180</td>\n",
       "      <td>-0.491240</td>\n",
       "      <td>-0.076395</td>\n",
       "      <td>0.571959</td>\n",
       "      <td>-0.673573</td>\n",
       "      <td>...</td>\n",
       "      <td>-0.481886</td>\n",
       "      <td>-0.009117</td>\n",
       "      <td>0.009622</td>\n",
       "      <td>0.555844</td>\n",
       "      <td>-0.836622</td>\n",
       "      <td>0.099256</td>\n",
       "      <td>0.014826</td>\n",
       "      <td>26.310000</td>\n",
       "      <td>0</td>\n",
       "      <td>13.365278</td>\n",
       "    </tr>\n",
       "    <tr>\n",
       "      <th>2</th>\n",
       "      <td>-1.680526</td>\n",
       "      <td>-0.959150</td>\n",
       "      <td>-1.329705</td>\n",
       "      <td>-1.028361</td>\n",
       "      <td>-0.730922</td>\n",
       "      <td>0.253124</td>\n",
       "      <td>3.308312</td>\n",
       "      <td>-0.480062</td>\n",
       "      <td>0.157630</td>\n",
       "      <td>-2.012017</td>\n",
       "      <td>...</td>\n",
       "      <td>-0.204108</td>\n",
       "      <td>0.517400</td>\n",
       "      <td>-0.611013</td>\n",
       "      <td>-0.445912</td>\n",
       "      <td>-0.409744</td>\n",
       "      <td>0.231809</td>\n",
       "      <td>0.253554</td>\n",
       "      <td>35.112713</td>\n",
       "      <td>0</td>\n",
       "      <td>35.431667</td>\n",
       "    </tr>\n",
       "    <tr>\n",
       "      <th>3</th>\n",
       "      <td>2.114488</td>\n",
       "      <td>0.169976</td>\n",
       "      <td>-2.051966</td>\n",
       "      <td>0.070326</td>\n",
       "      <td>0.481642</td>\n",
       "      <td>-1.819440</td>\n",
       "      <td>0.886700</td>\n",
       "      <td>-0.673729</td>\n",
       "      <td>0.077960</td>\n",
       "      <td>-0.006214</td>\n",
       "      <td>...</td>\n",
       "      <td>0.642597</td>\n",
       "      <td>-0.058720</td>\n",
       "      <td>0.128632</td>\n",
       "      <td>0.461792</td>\n",
       "      <td>0.234073</td>\n",
       "      <td>-0.082360</td>\n",
       "      <td>-0.075323</td>\n",
       "      <td>12.920000</td>\n",
       "      <td>0</td>\n",
       "      <td>42.215278</td>\n",
       "    </tr>\n",
       "    <tr>\n",
       "      <th>4</th>\n",
       "      <td>-5.277692</td>\n",
       "      <td>3.487837</td>\n",
       "      <td>-1.201844</td>\n",
       "      <td>-0.192904</td>\n",
       "      <td>-0.158582</td>\n",
       "      <td>0.949549</td>\n",
       "      <td>0.467901</td>\n",
       "      <td>-0.788434</td>\n",
       "      <td>4.652615</td>\n",
       "      <td>7.407039</td>\n",
       "      <td>...</td>\n",
       "      <td>-1.077669</td>\n",
       "      <td>0.160074</td>\n",
       "      <td>-1.535126</td>\n",
       "      <td>0.873245</td>\n",
       "      <td>-0.322503</td>\n",
       "      <td>1.383375</td>\n",
       "      <td>0.758996</td>\n",
       "      <td>28.900000</td>\n",
       "      <td>0</td>\n",
       "      <td>18.243056</td>\n",
       "    </tr>\n",
       "  </tbody>\n",
       "</table>\n",
       "<p>5 rows × 31 columns</p>\n",
       "</div>"
      ],
      "text/plain": [
       "         V1        V2        V3        V4        V5        V6        V7  \\\n",
       "0 -1.071719 -4.343904 -0.497727 -0.277591 -2.482346 -0.472073  0.991747   \n",
       "1  1.314915 -0.980378 -0.032665 -2.770975 -1.047365 -0.705180 -0.491240   \n",
       "2 -1.680526 -0.959150 -1.329705 -1.028361 -0.730922  0.253124  3.308312   \n",
       "3  2.114488  0.169976 -2.051966  0.070326  0.481642 -1.819440  0.886700   \n",
       "4 -5.277692  3.487837 -1.201844 -0.192904 -0.158582  0.949549  0.467901   \n",
       "\n",
       "         V8        V9       V10  ...       V22       V23       V24       V25  \\\n",
       "0 -0.414207  1.694252 -1.744176  ...  0.013647 -1.183439  0.536058  0.064148   \n",
       "1 -0.076395  0.571959 -0.673573  ... -0.481886 -0.009117  0.009622  0.555844   \n",
       "2 -0.480062  0.157630 -2.012017  ... -0.204108  0.517400 -0.611013 -0.445912   \n",
       "3 -0.673729  0.077960 -0.006214  ...  0.642597 -0.058720  0.128632  0.461792   \n",
       "4 -0.788434  4.652615  7.407039  ... -1.077669  0.160074 -1.535126  0.873245   \n",
       "\n",
       "        V26       V27       V28     Amount  Class  Time_hours  \n",
       "0 -0.016945 -0.179133  0.236036  35.112713      0   10.356389  \n",
       "1 -0.836622  0.099256  0.014826  26.310000      0   13.365278  \n",
       "2 -0.409744  0.231809  0.253554  35.112713      0   35.431667  \n",
       "3  0.234073 -0.082360 -0.075323  12.920000      0   42.215278  \n",
       "4 -0.322503  1.383375  0.758996  28.900000      0   18.243056  \n",
       "\n",
       "[5 rows x 31 columns]"
      ]
     },
     "execution_count": 1,
     "metadata": {},
     "output_type": "execute_result"
    }
   ],
   "source": [
    "import pandas as pd\n",
    "\n",
    "df = pd.read_csv(r'df_almost_ready.csv')\n",
    "df.head()"
   ]
  },
  {
   "cell_type": "markdown",
   "id": "42b244f4-2089-45c8-959c-9cc9681794ef",
   "metadata": {},
   "source": [
    "### Spliting the data into x and y"
   ]
  },
  {
   "cell_type": "code",
   "execution_count": 2,
   "id": "a61ba04a-f560-47fe-b626-6a71ec9ef08f",
   "metadata": {},
   "outputs": [
    {
     "data": {
      "text/html": [
       "<div>\n",
       "<style scoped>\n",
       "    .dataframe tbody tr th:only-of-type {\n",
       "        vertical-align: middle;\n",
       "    }\n",
       "\n",
       "    .dataframe tbody tr th {\n",
       "        vertical-align: top;\n",
       "    }\n",
       "\n",
       "    .dataframe thead th {\n",
       "        text-align: right;\n",
       "    }\n",
       "</style>\n",
       "<table border=\"1\" class=\"dataframe\">\n",
       "  <thead>\n",
       "    <tr style=\"text-align: right;\">\n",
       "      <th></th>\n",
       "      <th>V1</th>\n",
       "      <th>V2</th>\n",
       "      <th>V3</th>\n",
       "      <th>V4</th>\n",
       "      <th>V5</th>\n",
       "      <th>V6</th>\n",
       "      <th>V7</th>\n",
       "      <th>V8</th>\n",
       "      <th>V9</th>\n",
       "      <th>V10</th>\n",
       "      <th>...</th>\n",
       "      <th>V21</th>\n",
       "      <th>V22</th>\n",
       "      <th>V23</th>\n",
       "      <th>V24</th>\n",
       "      <th>V25</th>\n",
       "      <th>V26</th>\n",
       "      <th>V27</th>\n",
       "      <th>V28</th>\n",
       "      <th>Amount</th>\n",
       "      <th>Time_hours</th>\n",
       "    </tr>\n",
       "  </thead>\n",
       "  <tbody>\n",
       "    <tr>\n",
       "      <th>0</th>\n",
       "      <td>-1.071719</td>\n",
       "      <td>-4.343904</td>\n",
       "      <td>-0.497727</td>\n",
       "      <td>-0.277591</td>\n",
       "      <td>-2.482346</td>\n",
       "      <td>-0.472073</td>\n",
       "      <td>0.991747</td>\n",
       "      <td>-0.414207</td>\n",
       "      <td>1.694252</td>\n",
       "      <td>-1.744176</td>\n",
       "      <td>...</td>\n",
       "      <td>0.856441</td>\n",
       "      <td>0.013647</td>\n",
       "      <td>-1.183439</td>\n",
       "      <td>0.536058</td>\n",
       "      <td>0.064148</td>\n",
       "      <td>-0.016945</td>\n",
       "      <td>-0.179133</td>\n",
       "      <td>0.236036</td>\n",
       "      <td>35.112713</td>\n",
       "      <td>10.356389</td>\n",
       "    </tr>\n",
       "    <tr>\n",
       "      <th>1</th>\n",
       "      <td>1.314915</td>\n",
       "      <td>-0.980378</td>\n",
       "      <td>-0.032665</td>\n",
       "      <td>-2.770975</td>\n",
       "      <td>-1.047365</td>\n",
       "      <td>-0.705180</td>\n",
       "      <td>-0.491240</td>\n",
       "      <td>-0.076395</td>\n",
       "      <td>0.571959</td>\n",
       "      <td>-0.673573</td>\n",
       "      <td>...</td>\n",
       "      <td>-0.416346</td>\n",
       "      <td>-0.481886</td>\n",
       "      <td>-0.009117</td>\n",
       "      <td>0.009622</td>\n",
       "      <td>0.555844</td>\n",
       "      <td>-0.836622</td>\n",
       "      <td>0.099256</td>\n",
       "      <td>0.014826</td>\n",
       "      <td>26.310000</td>\n",
       "      <td>13.365278</td>\n",
       "    </tr>\n",
       "    <tr>\n",
       "      <th>2</th>\n",
       "      <td>-1.680526</td>\n",
       "      <td>-0.959150</td>\n",
       "      <td>-1.329705</td>\n",
       "      <td>-1.028361</td>\n",
       "      <td>-0.730922</td>\n",
       "      <td>0.253124</td>\n",
       "      <td>3.308312</td>\n",
       "      <td>-0.480062</td>\n",
       "      <td>0.157630</td>\n",
       "      <td>-2.012017</td>\n",
       "      <td>...</td>\n",
       "      <td>-0.084593</td>\n",
       "      <td>-0.204108</td>\n",
       "      <td>0.517400</td>\n",
       "      <td>-0.611013</td>\n",
       "      <td>-0.445912</td>\n",
       "      <td>-0.409744</td>\n",
       "      <td>0.231809</td>\n",
       "      <td>0.253554</td>\n",
       "      <td>35.112713</td>\n",
       "      <td>35.431667</td>\n",
       "    </tr>\n",
       "    <tr>\n",
       "      <th>3</th>\n",
       "      <td>2.114488</td>\n",
       "      <td>0.169976</td>\n",
       "      <td>-2.051966</td>\n",
       "      <td>0.070326</td>\n",
       "      <td>0.481642</td>\n",
       "      <td>-1.819440</td>\n",
       "      <td>0.886700</td>\n",
       "      <td>-0.673729</td>\n",
       "      <td>0.077960</td>\n",
       "      <td>-0.006214</td>\n",
       "      <td>...</td>\n",
       "      <td>0.163748</td>\n",
       "      <td>0.642597</td>\n",
       "      <td>-0.058720</td>\n",
       "      <td>0.128632</td>\n",
       "      <td>0.461792</td>\n",
       "      <td>0.234073</td>\n",
       "      <td>-0.082360</td>\n",
       "      <td>-0.075323</td>\n",
       "      <td>12.920000</td>\n",
       "      <td>42.215278</td>\n",
       "    </tr>\n",
       "    <tr>\n",
       "      <th>4</th>\n",
       "      <td>-5.277692</td>\n",
       "      <td>3.487837</td>\n",
       "      <td>-1.201844</td>\n",
       "      <td>-0.192904</td>\n",
       "      <td>-0.158582</td>\n",
       "      <td>0.949549</td>\n",
       "      <td>0.467901</td>\n",
       "      <td>-0.788434</td>\n",
       "      <td>4.652615</td>\n",
       "      <td>7.407039</td>\n",
       "      <td>...</td>\n",
       "      <td>-0.477313</td>\n",
       "      <td>-1.077669</td>\n",
       "      <td>0.160074</td>\n",
       "      <td>-1.535126</td>\n",
       "      <td>0.873245</td>\n",
       "      <td>-0.322503</td>\n",
       "      <td>1.383375</td>\n",
       "      <td>0.758996</td>\n",
       "      <td>28.900000</td>\n",
       "      <td>18.243056</td>\n",
       "    </tr>\n",
       "  </tbody>\n",
       "</table>\n",
       "<p>5 rows × 30 columns</p>\n",
       "</div>"
      ],
      "text/plain": [
       "         V1        V2        V3        V4        V5        V6        V7  \\\n",
       "0 -1.071719 -4.343904 -0.497727 -0.277591 -2.482346 -0.472073  0.991747   \n",
       "1  1.314915 -0.980378 -0.032665 -2.770975 -1.047365 -0.705180 -0.491240   \n",
       "2 -1.680526 -0.959150 -1.329705 -1.028361 -0.730922  0.253124  3.308312   \n",
       "3  2.114488  0.169976 -2.051966  0.070326  0.481642 -1.819440  0.886700   \n",
       "4 -5.277692  3.487837 -1.201844 -0.192904 -0.158582  0.949549  0.467901   \n",
       "\n",
       "         V8        V9       V10  ...       V21       V22       V23       V24  \\\n",
       "0 -0.414207  1.694252 -1.744176  ...  0.856441  0.013647 -1.183439  0.536058   \n",
       "1 -0.076395  0.571959 -0.673573  ... -0.416346 -0.481886 -0.009117  0.009622   \n",
       "2 -0.480062  0.157630 -2.012017  ... -0.084593 -0.204108  0.517400 -0.611013   \n",
       "3 -0.673729  0.077960 -0.006214  ...  0.163748  0.642597 -0.058720  0.128632   \n",
       "4 -0.788434  4.652615  7.407039  ... -0.477313 -1.077669  0.160074 -1.535126   \n",
       "\n",
       "        V25       V26       V27       V28     Amount  Time_hours  \n",
       "0  0.064148 -0.016945 -0.179133  0.236036  35.112713   10.356389  \n",
       "1  0.555844 -0.836622  0.099256  0.014826  26.310000   13.365278  \n",
       "2 -0.445912 -0.409744  0.231809  0.253554  35.112713   35.431667  \n",
       "3  0.461792  0.234073 -0.082360 -0.075323  12.920000   42.215278  \n",
       "4  0.873245 -0.322503  1.383375  0.758996  28.900000   18.243056  \n",
       "\n",
       "[5 rows x 30 columns]"
      ]
     },
     "execution_count": 2,
     "metadata": {},
     "output_type": "execute_result"
    }
   ],
   "source": [
    "x = df.drop(columns='Class', axis=1 )\n",
    "\n",
    "x.head()"
   ]
  },
  {
   "cell_type": "code",
   "execution_count": 3,
   "id": "76818b4a-51c9-485f-8229-d746629934ce",
   "metadata": {},
   "outputs": [],
   "source": [
    "\n",
    "y = df['Class']\n"
   ]
  },
  {
   "cell_type": "markdown",
   "id": "1a959548-deec-45ce-97ad-615578886ba9",
   "metadata": {},
   "source": [
    "### Splittinng into train set and test set"
   ]
  },
  {
   "cell_type": "code",
   "execution_count": 4,
   "id": "3582d29c-7399-42b4-b362-45edfb15383d",
   "metadata": {},
   "outputs": [],
   "source": [
    "from sklearn.model_selection import train_test_split\n",
    "\n",
    "x_train, x_test, y_train, y_test = train_test_split(x, y, test_size=0.2, random_state=42, stratify=y)\n"
   ]
  },
  {
   "cell_type": "markdown",
   "id": "867a088f-d606-4913-abf6-9d80e427e5bd",
   "metadata": {},
   "source": [
    "## Logistic Regression Model"
   ]
  },
  {
   "cell_type": "code",
   "execution_count": 5,
   "id": "9c18b5b4-bf79-4d8d-94ec-f58ee0cbb274",
   "metadata": {},
   "outputs": [],
   "source": [
    "from sklearn.linear_model import LogisticRegression\n",
    "from sklearn.model_selection import cross_val_score, GridSearchCV\n",
    "from sklearn.preprocessing import StandardScaler\n",
    "from sklearn.pipeline import make_pipeline\n",
    "from sklearn.metrics import classification_report\n",
    "import warnings\n",
    "# Filter out future warnings\n",
    "warnings.simplefilter(action='ignore', category=FutureWarning)"
   ]
  },
  {
   "cell_type": "code",
   "execution_count": 13,
   "id": "f0294f41-3f43-45fd-acd2-b0ce28917cdb",
   "metadata": {},
   "outputs": [],
   "source": [
    "# Creating a pipeline that scales the data and then applies Logistic Regression\n",
    "pipeline = make_pipeline(StandardScaler(), LogisticRegression(max_iter=1000))\n"
   ]
  },
  {
   "cell_type": "code",
   "execution_count": 29,
   "id": "25b65d94-ce7d-40ef-b74c-86277aa85fce",
   "metadata": {},
   "outputs": [],
   "source": [
    "# Define the parameter grid for grid search\n",
    "param_grid = {\n",
    "    'logisticregression__C': [0.001, 0.01, 0.1, 1, 10, 30, 50, 80, 100],\n",
    "    'logisticregression__penalty': ['l2'],\n",
    "    'logisticregression__class_weight': [ None,'balanced'] \n",
    "}"
   ]
  },
  {
   "cell_type": "code",
   "execution_count": 30,
   "id": "ac0b62e8-f28c-490e-98af-73d68098d51e",
   "metadata": {},
   "outputs": [
    {
     "data": {
      "text/html": [
       "<style>#sk-container-id-6 {color: black;background-color: white;}#sk-container-id-6 pre{padding: 0;}#sk-container-id-6 div.sk-toggleable {background-color: white;}#sk-container-id-6 label.sk-toggleable__label {cursor: pointer;display: block;width: 100%;margin-bottom: 0;padding: 0.3em;box-sizing: border-box;text-align: center;}#sk-container-id-6 label.sk-toggleable__label-arrow:before {content: \"▸\";float: left;margin-right: 0.25em;color: #696969;}#sk-container-id-6 label.sk-toggleable__label-arrow:hover:before {color: black;}#sk-container-id-6 div.sk-estimator:hover label.sk-toggleable__label-arrow:before {color: black;}#sk-container-id-6 div.sk-toggleable__content {max-height: 0;max-width: 0;overflow: hidden;text-align: left;background-color: #f0f8ff;}#sk-container-id-6 div.sk-toggleable__content pre {margin: 0.2em;color: black;border-radius: 0.25em;background-color: #f0f8ff;}#sk-container-id-6 input.sk-toggleable__control:checked~div.sk-toggleable__content {max-height: 200px;max-width: 100%;overflow: auto;}#sk-container-id-6 input.sk-toggleable__control:checked~label.sk-toggleable__label-arrow:before {content: \"▾\";}#sk-container-id-6 div.sk-estimator input.sk-toggleable__control:checked~label.sk-toggleable__label {background-color: #d4ebff;}#sk-container-id-6 div.sk-label input.sk-toggleable__control:checked~label.sk-toggleable__label {background-color: #d4ebff;}#sk-container-id-6 input.sk-hidden--visually {border: 0;clip: rect(1px 1px 1px 1px);clip: rect(1px, 1px, 1px, 1px);height: 1px;margin: -1px;overflow: hidden;padding: 0;position: absolute;width: 1px;}#sk-container-id-6 div.sk-estimator {font-family: monospace;background-color: #f0f8ff;border: 1px dotted black;border-radius: 0.25em;box-sizing: border-box;margin-bottom: 0.5em;}#sk-container-id-6 div.sk-estimator:hover {background-color: #d4ebff;}#sk-container-id-6 div.sk-parallel-item::after {content: \"\";width: 100%;border-bottom: 1px solid gray;flex-grow: 1;}#sk-container-id-6 div.sk-label:hover label.sk-toggleable__label {background-color: #d4ebff;}#sk-container-id-6 div.sk-serial::before {content: \"\";position: absolute;border-left: 1px solid gray;box-sizing: border-box;top: 0;bottom: 0;left: 50%;z-index: 0;}#sk-container-id-6 div.sk-serial {display: flex;flex-direction: column;align-items: center;background-color: white;padding-right: 0.2em;padding-left: 0.2em;position: relative;}#sk-container-id-6 div.sk-item {position: relative;z-index: 1;}#sk-container-id-6 div.sk-parallel {display: flex;align-items: stretch;justify-content: center;background-color: white;position: relative;}#sk-container-id-6 div.sk-item::before, #sk-container-id-6 div.sk-parallel-item::before {content: \"\";position: absolute;border-left: 1px solid gray;box-sizing: border-box;top: 0;bottom: 0;left: 50%;z-index: -1;}#sk-container-id-6 div.sk-parallel-item {display: flex;flex-direction: column;z-index: 1;position: relative;background-color: white;}#sk-container-id-6 div.sk-parallel-item:first-child::after {align-self: flex-end;width: 50%;}#sk-container-id-6 div.sk-parallel-item:last-child::after {align-self: flex-start;width: 50%;}#sk-container-id-6 div.sk-parallel-item:only-child::after {width: 0;}#sk-container-id-6 div.sk-dashed-wrapped {border: 1px dashed gray;margin: 0 0.4em 0.5em 0.4em;box-sizing: border-box;padding-bottom: 0.4em;background-color: white;}#sk-container-id-6 div.sk-label label {font-family: monospace;font-weight: bold;display: inline-block;line-height: 1.2em;}#sk-container-id-6 div.sk-label-container {text-align: center;}#sk-container-id-6 div.sk-container {/* jupyter's `normalize.less` sets `[hidden] { display: none; }` but bootstrap.min.css set `[hidden] { display: none !important; }` so we also need the `!important` here to be able to override the default hidden behavior on the sphinx rendered scikit-learn.org. See: https://github.com/scikit-learn/scikit-learn/issues/21755 */display: inline-block !important;position: relative;}#sk-container-id-6 div.sk-text-repr-fallback {display: none;}</style><div id=\"sk-container-id-6\" class=\"sk-top-container\"><div class=\"sk-text-repr-fallback\"><pre>GridSearchCV(cv=10,\n",
       "             estimator=Pipeline(steps=[(&#x27;standardscaler&#x27;, StandardScaler()),\n",
       "                                       (&#x27;logisticregression&#x27;,\n",
       "                                        LogisticRegression(max_iter=1000))]),\n",
       "             param_grid={&#x27;logisticregression__C&#x27;: [0.001, 0.01, 0.1, 1, 10, 30,\n",
       "                                                   50, 80, 100],\n",
       "                         &#x27;logisticregression__class_weight&#x27;: [None, &#x27;balanced&#x27;],\n",
       "                         &#x27;logisticregression__penalty&#x27;: [&#x27;l2&#x27;]},\n",
       "             scoring=&#x27;roc_auc&#x27;)</pre><b>In a Jupyter environment, please rerun this cell to show the HTML representation or trust the notebook. <br />On GitHub, the HTML representation is unable to render, please try loading this page with nbviewer.org.</b></div><div class=\"sk-container\" hidden><div class=\"sk-item sk-dashed-wrapped\"><div class=\"sk-label-container\"><div class=\"sk-label sk-toggleable\"><input class=\"sk-toggleable__control sk-hidden--visually\" id=\"sk-estimator-id-21\" type=\"checkbox\" ><label for=\"sk-estimator-id-21\" class=\"sk-toggleable__label sk-toggleable__label-arrow\">GridSearchCV</label><div class=\"sk-toggleable__content\"><pre>GridSearchCV(cv=10,\n",
       "             estimator=Pipeline(steps=[(&#x27;standardscaler&#x27;, StandardScaler()),\n",
       "                                       (&#x27;logisticregression&#x27;,\n",
       "                                        LogisticRegression(max_iter=1000))]),\n",
       "             param_grid={&#x27;logisticregression__C&#x27;: [0.001, 0.01, 0.1, 1, 10, 30,\n",
       "                                                   50, 80, 100],\n",
       "                         &#x27;logisticregression__class_weight&#x27;: [None, &#x27;balanced&#x27;],\n",
       "                         &#x27;logisticregression__penalty&#x27;: [&#x27;l2&#x27;]},\n",
       "             scoring=&#x27;roc_auc&#x27;)</pre></div></div></div><div class=\"sk-parallel\"><div class=\"sk-parallel-item\"><div class=\"sk-item\"><div class=\"sk-label-container\"><div class=\"sk-label sk-toggleable\"><input class=\"sk-toggleable__control sk-hidden--visually\" id=\"sk-estimator-id-22\" type=\"checkbox\" ><label for=\"sk-estimator-id-22\" class=\"sk-toggleable__label sk-toggleable__label-arrow\">estimator: Pipeline</label><div class=\"sk-toggleable__content\"><pre>Pipeline(steps=[(&#x27;standardscaler&#x27;, StandardScaler()),\n",
       "                (&#x27;logisticregression&#x27;, LogisticRegression(max_iter=1000))])</pre></div></div></div><div class=\"sk-serial\"><div class=\"sk-item\"><div class=\"sk-serial\"><div class=\"sk-item\"><div class=\"sk-estimator sk-toggleable\"><input class=\"sk-toggleable__control sk-hidden--visually\" id=\"sk-estimator-id-23\" type=\"checkbox\" ><label for=\"sk-estimator-id-23\" class=\"sk-toggleable__label sk-toggleable__label-arrow\">StandardScaler</label><div class=\"sk-toggleable__content\"><pre>StandardScaler()</pre></div></div></div><div class=\"sk-item\"><div class=\"sk-estimator sk-toggleable\"><input class=\"sk-toggleable__control sk-hidden--visually\" id=\"sk-estimator-id-24\" type=\"checkbox\" ><label for=\"sk-estimator-id-24\" class=\"sk-toggleable__label sk-toggleable__label-arrow\">LogisticRegression</label><div class=\"sk-toggleable__content\"><pre>LogisticRegression(max_iter=1000)</pre></div></div></div></div></div></div></div></div></div></div></div></div>"
      ],
      "text/plain": [
       "GridSearchCV(cv=10,\n",
       "             estimator=Pipeline(steps=[('standardscaler', StandardScaler()),\n",
       "                                       ('logisticregression',\n",
       "                                        LogisticRegression(max_iter=1000))]),\n",
       "             param_grid={'logisticregression__C': [0.001, 0.01, 0.1, 1, 10, 30,\n",
       "                                                   50, 80, 100],\n",
       "                         'logisticregression__class_weight': [None, 'balanced'],\n",
       "                         'logisticregression__penalty': ['l2']},\n",
       "             scoring='roc_auc')"
      ]
     },
     "execution_count": 30,
     "metadata": {},
     "output_type": "execute_result"
    }
   ],
   "source": [
    "# Create GridSearchCV object\n",
    "grid_search = GridSearchCV(pipeline, param_grid, cv=10, scoring='roc_auc')\n",
    "\n",
    "# Fit the grid search to the data\n",
    "grid_search.fit(x_train, y_train)"
   ]
  },
  {
   "cell_type": "code",
   "execution_count": 31,
   "id": "2c09326e-2454-4e65-b347-ac2d37323030",
   "metadata": {},
   "outputs": [
    {
     "name": "stdout",
     "output_type": "stream",
     "text": [
      "Best Parameters: {'logisticregression__C': 100, 'logisticregression__class_weight': None, 'logisticregression__penalty': 'l2'}\n",
      "Best Cross-Validation ROC AUC: 0.9571964956195245\n"
     ]
    }
   ],
   "source": [
    "# Print the best parameters and the corresponding score\n",
    "print(\"Best Parameters:\", grid_search.best_params_)\n",
    "print(\"Best Cross-Validation ROC AUC:\", grid_search.best_score_)\n"
   ]
  },
  {
   "cell_type": "code",
   "execution_count": 32,
   "id": "758a8836-2d65-4c87-92a0-f0d9585e6bf4",
   "metadata": {},
   "outputs": [
    {
     "name": "stdout",
     "output_type": "stream",
     "text": [
      "Cross-Validation ROC AUC Scores: [1.         0.99249061 0.85732165 0.88110138 0.99499374 0.84605757\n",
      " 1.         1.         1.         1.        ]\n",
      "Average ROC AUC Score: 0.9571964956195245\n"
     ]
    }
   ],
   "source": [
    "# Get the best model from grid search\n",
    "best_model = grid_search.best_estimator_\n",
    "\n",
    "# Perform cross-validation with the best estimator\n",
    "scores = cross_val_score(best_model, x_train, y_train, cv=10, scoring='roc_auc') \n",
    "print(\"Cross-Validation ROC AUC Scores:\", scores)\n",
    "print(\"Average ROC AUC Score:\", scores.mean())"
   ]
  },
  {
   "cell_type": "markdown",
   "id": "0f4c18b6-21f2-4a10-9f83-a314de5bbda8",
   "metadata": {},
   "source": [
    "    -Average ROC AUC Score: The average score from cross-validation is the same as the best cross-validation score because the cross-validation process is part of the grid search. This is a consistency check."
   ]
  },
  {
   "cell_type": "code",
   "execution_count": 33,
   "id": "2585d838-829c-448c-808d-6443808fba2c",
   "metadata": {},
   "outputs": [
    {
     "name": "stdout",
     "output_type": "stream",
     "text": [
      "Test Metrics Report:\n",
      "               precision    recall  f1-score   support\n",
      "\n",
      "   Not Fraud       1.00      1.00      1.00      1997\n",
      "       Fraud       0.25      0.33      0.29         3\n",
      "\n",
      "    accuracy                           1.00      2000\n",
      "   macro avg       0.62      0.67      0.64      2000\n",
      "weighted avg       1.00      1.00      1.00      2000\n",
      "\n"
     ]
    }
   ],
   "source": [
    "\n",
    "# Predict on the test data\n",
    "y_pred = best_model.predict(x_test)\n",
    "\n",
    "# Print the classification report for test metrics\n",
    "print(\"Test Metrics Report:\\n\", classification_report(y_test, y_pred, target_names=['Not Fraud', 'Fraud']))\n"
   ]
  },
  {
   "cell_type": "markdown",
   "id": "dc5a6543-d374-435c-a6fe-de23bfa7781b",
   "metadata": {},
   "source": [
    "### Insights"
   ]
  },
  {
   "cell_type": "markdown",
   "id": "6a86a25b-d366-413f-8138-c7adea517f63",
   "metadata": {},
   "source": [
    "1. The model is likely overfitting to the majority class (Not Fraud), which is common in imbalanced datasets.\n",
    "2. Precision for the 'Not Fraud' class is 1.00, meaning the model is excellent at ensuring that when it predicts a transaction is not fraud, it is correct practically every time while Precision for the 'Fraud' class is 0.25, this indicates that when the model predicts a transaction is fraudulent, it is correct only 25% of the time.\n",
    "3. Recall for the 'Not Fraud' class is also 1.00, meaning the model identifies almost all non-fraudulent transactions correctly while Recall for the 'Fraud' class is 0.33, meaning the model correctly identifies 33% of all fraudulent transactions. This suggests that while it catches some frauds.\n",
    "4. The F1-score for the 'Not Fraud' class is 1.00, indicating excellent precision and recall. The model's predictions for non-fraudulent transactions are reliable whle The F1-score for the 'Fraud' class is 0.29, which is quite low"
   ]
  },
  {
   "cell_type": "code",
   "execution_count": 34,
   "id": "a1a67d36-7633-405d-bd45-c9806f1bd7dd",
   "metadata": {},
   "outputs": [
    {
     "data": {
      "text/html": [
       "<div>\n",
       "<style scoped>\n",
       "    .dataframe tbody tr th:only-of-type {\n",
       "        vertical-align: middle;\n",
       "    }\n",
       "\n",
       "    .dataframe tbody tr th {\n",
       "        vertical-align: top;\n",
       "    }\n",
       "\n",
       "    .dataframe thead th {\n",
       "        text-align: right;\n",
       "    }\n",
       "</style>\n",
       "<table border=\"1\" class=\"dataframe\">\n",
       "  <thead>\n",
       "    <tr style=\"text-align: right;\">\n",
       "      <th></th>\n",
       "      <th>Method</th>\n",
       "      <th>Best c.v Accuracy</th>\n",
       "    </tr>\n",
       "  </thead>\n",
       "  <tbody>\n",
       "    <tr>\n",
       "      <th>0</th>\n",
       "      <td>Logistic Regression</td>\n",
       "      <td>0.957196</td>\n",
       "    </tr>\n",
       "  </tbody>\n",
       "</table>\n",
       "</div>"
      ],
      "text/plain": [
       "                Method Best c.v Accuracy\n",
       "0  Logistic Regression          0.957196"
      ]
     },
     "execution_count": 34,
     "metadata": {},
     "output_type": "execute_result"
    }
   ],
   "source": [
    "lr_results = pd.DataFrame(['Logistic Regression', grid_search.best_score_]).transpose()\n",
    "lr_results.columns = ['Method', 'Best c.v Accuracy']\n",
    "lr_results"
   ]
  },
  {
   "cell_type": "markdown",
   "id": "51e41e3b-5930-4fe1-b58c-76584fb20617",
   "metadata": {},
   "source": [
    "## Random Forest Model"
   ]
  },
  {
   "cell_type": "code",
   "execution_count": 6,
   "id": "682385b7-3bf8-4c84-8f18-a41a241513c1",
   "metadata": {},
   "outputs": [],
   "source": [
    "from sklearn.ensemble import RandomForestClassifier\n",
    "from sklearn.model_selection import RandomizedSearchCV\n",
    "import numpy as np"
   ]
  },
  {
   "cell_type": "code",
   "execution_count": 36,
   "id": "51b0e67b-cc4a-452f-a027-3b8d6c2a4f6f",
   "metadata": {},
   "outputs": [],
   "source": [
    "# Initializing the RandomForestClassifier\n",
    "randf_model = RandomForestClassifier(n_jobs=-1)"
   ]
  },
  {
   "cell_type": "code",
   "execution_count": 37,
   "id": "3a6f5e33-4c60-4e30-81cb-62d094f9d38f",
   "metadata": {},
   "outputs": [],
   "source": [
    "\n",
    "# Perform cross-validation on the training set with a more suitable scoring metric\n",
    "scores = cross_val_score(randf_model, x_train, y_train, cv=10, scoring='roc_auc', n_jobs=-1)"
   ]
  },
  {
   "cell_type": "code",
   "execution_count": 38,
   "id": "c3483804-5dce-4952-b5b2-d2283f399def",
   "metadata": {},
   "outputs": [
    {
     "name": "stdout",
     "output_type": "stream",
     "text": [
      "Cross-Validation ROC AUC Scores: [1.         1.         0.48185232 0.48560701 0.99874844 0.48811014\n",
      " 1.         1.         1.         1.        ]\n",
      "Average ROC AUC Score: 0.8454317897371715\n"
     ]
    }
   ],
   "source": [
    "# Print the scores for each fold and the average score\n",
    "print(\"Cross-Validation ROC AUC Scores:\", scores)\n",
    "print(\"Average ROC AUC Score:\", np.mean(scores))\n"
   ]
  },
  {
   "cell_type": "code",
   "execution_count": 44,
   "id": "85a89416-8908-4b67-ae22-c339af244c30",
   "metadata": {},
   "outputs": [],
   "source": [
    "# Define the parameter grid for Random Forest\n",
    "param_grid_rf = {\n",
    "    'n_estimators': [10, 50, 100],\n",
    "    'max_depth': [None, 10, 20],\n",
    "    'min_samples_split': [2, 4],\n",
    "    'min_samples_leaf': [1, 2]\n",
    "}"
   ]
  },
  {
   "cell_type": "code",
   "execution_count": 45,
   "id": "539d7629-84c4-4be3-9cde-2b93ec899f06",
   "metadata": {},
   "outputs": [
    {
     "data": {
      "text/html": [
       "<style>#sk-container-id-7 {color: black;background-color: white;}#sk-container-id-7 pre{padding: 0;}#sk-container-id-7 div.sk-toggleable {background-color: white;}#sk-container-id-7 label.sk-toggleable__label {cursor: pointer;display: block;width: 100%;margin-bottom: 0;padding: 0.3em;box-sizing: border-box;text-align: center;}#sk-container-id-7 label.sk-toggleable__label-arrow:before {content: \"▸\";float: left;margin-right: 0.25em;color: #696969;}#sk-container-id-7 label.sk-toggleable__label-arrow:hover:before {color: black;}#sk-container-id-7 div.sk-estimator:hover label.sk-toggleable__label-arrow:before {color: black;}#sk-container-id-7 div.sk-toggleable__content {max-height: 0;max-width: 0;overflow: hidden;text-align: left;background-color: #f0f8ff;}#sk-container-id-7 div.sk-toggleable__content pre {margin: 0.2em;color: black;border-radius: 0.25em;background-color: #f0f8ff;}#sk-container-id-7 input.sk-toggleable__control:checked~div.sk-toggleable__content {max-height: 200px;max-width: 100%;overflow: auto;}#sk-container-id-7 input.sk-toggleable__control:checked~label.sk-toggleable__label-arrow:before {content: \"▾\";}#sk-container-id-7 div.sk-estimator input.sk-toggleable__control:checked~label.sk-toggleable__label {background-color: #d4ebff;}#sk-container-id-7 div.sk-label input.sk-toggleable__control:checked~label.sk-toggleable__label {background-color: #d4ebff;}#sk-container-id-7 input.sk-hidden--visually {border: 0;clip: rect(1px 1px 1px 1px);clip: rect(1px, 1px, 1px, 1px);height: 1px;margin: -1px;overflow: hidden;padding: 0;position: absolute;width: 1px;}#sk-container-id-7 div.sk-estimator {font-family: monospace;background-color: #f0f8ff;border: 1px dotted black;border-radius: 0.25em;box-sizing: border-box;margin-bottom: 0.5em;}#sk-container-id-7 div.sk-estimator:hover {background-color: #d4ebff;}#sk-container-id-7 div.sk-parallel-item::after {content: \"\";width: 100%;border-bottom: 1px solid gray;flex-grow: 1;}#sk-container-id-7 div.sk-label:hover label.sk-toggleable__label {background-color: #d4ebff;}#sk-container-id-7 div.sk-serial::before {content: \"\";position: absolute;border-left: 1px solid gray;box-sizing: border-box;top: 0;bottom: 0;left: 50%;z-index: 0;}#sk-container-id-7 div.sk-serial {display: flex;flex-direction: column;align-items: center;background-color: white;padding-right: 0.2em;padding-left: 0.2em;position: relative;}#sk-container-id-7 div.sk-item {position: relative;z-index: 1;}#sk-container-id-7 div.sk-parallel {display: flex;align-items: stretch;justify-content: center;background-color: white;position: relative;}#sk-container-id-7 div.sk-item::before, #sk-container-id-7 div.sk-parallel-item::before {content: \"\";position: absolute;border-left: 1px solid gray;box-sizing: border-box;top: 0;bottom: 0;left: 50%;z-index: -1;}#sk-container-id-7 div.sk-parallel-item {display: flex;flex-direction: column;z-index: 1;position: relative;background-color: white;}#sk-container-id-7 div.sk-parallel-item:first-child::after {align-self: flex-end;width: 50%;}#sk-container-id-7 div.sk-parallel-item:last-child::after {align-self: flex-start;width: 50%;}#sk-container-id-7 div.sk-parallel-item:only-child::after {width: 0;}#sk-container-id-7 div.sk-dashed-wrapped {border: 1px dashed gray;margin: 0 0.4em 0.5em 0.4em;box-sizing: border-box;padding-bottom: 0.4em;background-color: white;}#sk-container-id-7 div.sk-label label {font-family: monospace;font-weight: bold;display: inline-block;line-height: 1.2em;}#sk-container-id-7 div.sk-label-container {text-align: center;}#sk-container-id-7 div.sk-container {/* jupyter's `normalize.less` sets `[hidden] { display: none; }` but bootstrap.min.css set `[hidden] { display: none !important; }` so we also need the `!important` here to be able to override the default hidden behavior on the sphinx rendered scikit-learn.org. See: https://github.com/scikit-learn/scikit-learn/issues/21755 */display: inline-block !important;position: relative;}#sk-container-id-7 div.sk-text-repr-fallback {display: none;}</style><div id=\"sk-container-id-7\" class=\"sk-top-container\"><div class=\"sk-text-repr-fallback\"><pre>RandomizedSearchCV(cv=5, estimator=RandomForestClassifier(n_jobs=-1), n_jobs=-1,\n",
       "                   param_distributions={&#x27;max_depth&#x27;: [None, 10, 20],\n",
       "                                        &#x27;min_samples_leaf&#x27;: [1, 2],\n",
       "                                        &#x27;min_samples_split&#x27;: [2, 4],\n",
       "                                        &#x27;n_estimators&#x27;: [10, 50, 100]},\n",
       "                   random_state=42, scoring=&#x27;roc_auc&#x27;)</pre><b>In a Jupyter environment, please rerun this cell to show the HTML representation or trust the notebook. <br />On GitHub, the HTML representation is unable to render, please try loading this page with nbviewer.org.</b></div><div class=\"sk-container\" hidden><div class=\"sk-item sk-dashed-wrapped\"><div class=\"sk-label-container\"><div class=\"sk-label sk-toggleable\"><input class=\"sk-toggleable__control sk-hidden--visually\" id=\"sk-estimator-id-25\" type=\"checkbox\" ><label for=\"sk-estimator-id-25\" class=\"sk-toggleable__label sk-toggleable__label-arrow\">RandomizedSearchCV</label><div class=\"sk-toggleable__content\"><pre>RandomizedSearchCV(cv=5, estimator=RandomForestClassifier(n_jobs=-1), n_jobs=-1,\n",
       "                   param_distributions={&#x27;max_depth&#x27;: [None, 10, 20],\n",
       "                                        &#x27;min_samples_leaf&#x27;: [1, 2],\n",
       "                                        &#x27;min_samples_split&#x27;: [2, 4],\n",
       "                                        &#x27;n_estimators&#x27;: [10, 50, 100]},\n",
       "                   random_state=42, scoring=&#x27;roc_auc&#x27;)</pre></div></div></div><div class=\"sk-parallel\"><div class=\"sk-parallel-item\"><div class=\"sk-item\"><div class=\"sk-label-container\"><div class=\"sk-label sk-toggleable\"><input class=\"sk-toggleable__control sk-hidden--visually\" id=\"sk-estimator-id-26\" type=\"checkbox\" ><label for=\"sk-estimator-id-26\" class=\"sk-toggleable__label sk-toggleable__label-arrow\">estimator: RandomForestClassifier</label><div class=\"sk-toggleable__content\"><pre>RandomForestClassifier(n_jobs=-1)</pre></div></div></div><div class=\"sk-serial\"><div class=\"sk-item\"><div class=\"sk-estimator sk-toggleable\"><input class=\"sk-toggleable__control sk-hidden--visually\" id=\"sk-estimator-id-27\" type=\"checkbox\" ><label for=\"sk-estimator-id-27\" class=\"sk-toggleable__label sk-toggleable__label-arrow\">RandomForestClassifier</label><div class=\"sk-toggleable__content\"><pre>RandomForestClassifier(n_jobs=-1)</pre></div></div></div></div></div></div></div></div></div></div>"
      ],
      "text/plain": [
       "RandomizedSearchCV(cv=5, estimator=RandomForestClassifier(n_jobs=-1), n_jobs=-1,\n",
       "                   param_distributions={'max_depth': [None, 10, 20],\n",
       "                                        'min_samples_leaf': [1, 2],\n",
       "                                        'min_samples_split': [2, 4],\n",
       "                                        'n_estimators': [10, 50, 100]},\n",
       "                   random_state=42, scoring='roc_auc')"
      ]
     },
     "execution_count": 45,
     "metadata": {},
     "output_type": "execute_result"
    }
   ],
   "source": [
    "# Using RandomizedSearchCV\n",
    "random_search_rf = RandomizedSearchCV(RandomForestClassifier(n_jobs=-1), \n",
    "                                      param_grid_rf, n_iter=10, cv=5, \n",
    "                                      scoring='roc_auc', n_jobs=-1, random_state=42)\n",
    "\n",
    "random_search_rf.fit(x_train, y_train)"
   ]
  },
  {
   "cell_type": "code",
   "execution_count": 46,
   "id": "91f3bf1a-5245-41c9-a308-fb408914550a",
   "metadata": {},
   "outputs": [
    {
     "name": "stdout",
     "output_type": "stream",
     "text": [
      "Best Parameters: {'n_estimators': 10, 'min_samples_split': 4, 'min_samples_leaf': 2, 'max_depth': 10}\n",
      "Best ROC AUC: 0.8993634092814305\n"
     ]
    }
   ],
   "source": [
    "# Print the best parameters and score\n",
    "print(\"Best Parameters:\", random_search_rf.best_params_)\n",
    "print(\"Best ROC AUC:\", random_search_rf.best_score_)"
   ]
  },
  {
   "cell_type": "code",
   "execution_count": 47,
   "id": "73b6b8f9-ae56-4d05-95e5-683e40b30f15",
   "metadata": {},
   "outputs": [],
   "source": [
    "# Get the best model from grid search\n",
    "best_rf_model = random_search_rf.best_estimator_"
   ]
  },
  {
   "cell_type": "code",
   "execution_count": 48,
   "id": "26e412db-7cb0-4446-96eb-653c5d671370",
   "metadata": {},
   "outputs": [],
   "source": [
    "\n",
    "# Predict on the test data\n",
    "y_pred = best_rf_model.predict(x_test)"
   ]
  },
  {
   "cell_type": "code",
   "execution_count": 49,
   "id": "f7ffacde-4757-4aef-86f2-30dd7a2fff78",
   "metadata": {},
   "outputs": [
    {
     "name": "stdout",
     "output_type": "stream",
     "text": [
      "Test Metrics Report:\n",
      "               precision    recall  f1-score   support\n",
      "\n",
      "   Not Fraud       1.00      1.00      1.00      1997\n",
      "       Fraud       0.75      1.00      0.86         3\n",
      "\n",
      "    accuracy                           1.00      2000\n",
      "   macro avg       0.88      1.00      0.93      2000\n",
      "weighted avg       1.00      1.00      1.00      2000\n",
      "\n"
     ]
    }
   ],
   "source": [
    "\n",
    "\n",
    "# Print the classification report for test metrics\n",
    "print(\"Test Metrics Report:\\n\", classification_report(y_test, y_pred, \n",
    "                                        target_names=['Not Fraud', 'Fraud']))\n"
   ]
  },
  {
   "cell_type": "markdown",
   "id": "65f881f5-fe62-4e7b-80f3-dae806b70c33",
   "metadata": {},
   "source": [
    "### Insights"
   ]
  },
  {
   "cell_type": "markdown",
   "id": "d0a3ce86-7822-4bc9-b7ed-25b5f426667d",
   "metadata": {},
   "source": [
    "1. High Precision for 'Not Fraud': The model almost perfectly identifies 'Not Fraud' transactions, which is expected as they are the majority class.\n",
    "2. High Precision and Recall for 'Fraud': The precision of 0.75 and recall of 1.00 for the 'Fraud' class are particularly noteworthy.\n",
    "3. F1-Score for 'Fraud' (0.86): A high F1-score for the 'Fraud' class indicates a good balance between precision and recall."
   ]
  },
  {
   "cell_type": "code",
   "execution_count": 50,
   "id": "f5838390-e4f8-4cc3-89b8-e5184b2d0b1f",
   "metadata": {},
   "outputs": [
    {
     "data": {
      "text/html": [
       "<div>\n",
       "<style scoped>\n",
       "    .dataframe tbody tr th:only-of-type {\n",
       "        vertical-align: middle;\n",
       "    }\n",
       "\n",
       "    .dataframe tbody tr th {\n",
       "        vertical-align: top;\n",
       "    }\n",
       "\n",
       "    .dataframe thead th {\n",
       "        text-align: right;\n",
       "    }\n",
       "</style>\n",
       "<table border=\"1\" class=\"dataframe\">\n",
       "  <thead>\n",
       "    <tr style=\"text-align: right;\">\n",
       "      <th></th>\n",
       "      <th>Method</th>\n",
       "      <th>Best c.v Accuracy</th>\n",
       "    </tr>\n",
       "  </thead>\n",
       "  <tbody>\n",
       "    <tr>\n",
       "      <th>0</th>\n",
       "      <td>Random Forest</td>\n",
       "      <td>0.899363</td>\n",
       "    </tr>\n",
       "  </tbody>\n",
       "</table>\n",
       "</div>"
      ],
      "text/plain": [
       "          Method Best c.v Accuracy\n",
       "0  Random Forest          0.899363"
      ]
     },
     "execution_count": 50,
     "metadata": {},
     "output_type": "execute_result"
    }
   ],
   "source": [
    "rf_results = pd.DataFrame(['Random Forest', random_search_rf.best_score_]).transpose()\n",
    "rf_results.columns = ['Method', 'Best c.v Accuracy']\n",
    "rf_results"
   ]
  },
  {
   "cell_type": "markdown",
   "id": "973f29c0-e2b3-4819-a467-9eff7573aa9d",
   "metadata": {},
   "source": [
    "## Gradient Boosting Model"
   ]
  },
  {
   "cell_type": "code",
   "execution_count": 56,
   "id": "c1b54b92-9040-49d7-a689-dbaf769a1617",
   "metadata": {},
   "outputs": [],
   "source": [
    "from sklearn.ensemble import GradientBoostingClassifier"
   ]
  },
  {
   "cell_type": "code",
   "execution_count": 57,
   "id": "c11fee1a-4fc2-4276-8f05-d48fe5147671",
   "metadata": {},
   "outputs": [
    {
     "data": {
      "text/html": [
       "<style>#sk-container-id-8 {color: black;background-color: white;}#sk-container-id-8 pre{padding: 0;}#sk-container-id-8 div.sk-toggleable {background-color: white;}#sk-container-id-8 label.sk-toggleable__label {cursor: pointer;display: block;width: 100%;margin-bottom: 0;padding: 0.3em;box-sizing: border-box;text-align: center;}#sk-container-id-8 label.sk-toggleable__label-arrow:before {content: \"▸\";float: left;margin-right: 0.25em;color: #696969;}#sk-container-id-8 label.sk-toggleable__label-arrow:hover:before {color: black;}#sk-container-id-8 div.sk-estimator:hover label.sk-toggleable__label-arrow:before {color: black;}#sk-container-id-8 div.sk-toggleable__content {max-height: 0;max-width: 0;overflow: hidden;text-align: left;background-color: #f0f8ff;}#sk-container-id-8 div.sk-toggleable__content pre {margin: 0.2em;color: black;border-radius: 0.25em;background-color: #f0f8ff;}#sk-container-id-8 input.sk-toggleable__control:checked~div.sk-toggleable__content {max-height: 200px;max-width: 100%;overflow: auto;}#sk-container-id-8 input.sk-toggleable__control:checked~label.sk-toggleable__label-arrow:before {content: \"▾\";}#sk-container-id-8 div.sk-estimator input.sk-toggleable__control:checked~label.sk-toggleable__label {background-color: #d4ebff;}#sk-container-id-8 div.sk-label input.sk-toggleable__control:checked~label.sk-toggleable__label {background-color: #d4ebff;}#sk-container-id-8 input.sk-hidden--visually {border: 0;clip: rect(1px 1px 1px 1px);clip: rect(1px, 1px, 1px, 1px);height: 1px;margin: -1px;overflow: hidden;padding: 0;position: absolute;width: 1px;}#sk-container-id-8 div.sk-estimator {font-family: monospace;background-color: #f0f8ff;border: 1px dotted black;border-radius: 0.25em;box-sizing: border-box;margin-bottom: 0.5em;}#sk-container-id-8 div.sk-estimator:hover {background-color: #d4ebff;}#sk-container-id-8 div.sk-parallel-item::after {content: \"\";width: 100%;border-bottom: 1px solid gray;flex-grow: 1;}#sk-container-id-8 div.sk-label:hover label.sk-toggleable__label {background-color: #d4ebff;}#sk-container-id-8 div.sk-serial::before {content: \"\";position: absolute;border-left: 1px solid gray;box-sizing: border-box;top: 0;bottom: 0;left: 50%;z-index: 0;}#sk-container-id-8 div.sk-serial {display: flex;flex-direction: column;align-items: center;background-color: white;padding-right: 0.2em;padding-left: 0.2em;position: relative;}#sk-container-id-8 div.sk-item {position: relative;z-index: 1;}#sk-container-id-8 div.sk-parallel {display: flex;align-items: stretch;justify-content: center;background-color: white;position: relative;}#sk-container-id-8 div.sk-item::before, #sk-container-id-8 div.sk-parallel-item::before {content: \"\";position: absolute;border-left: 1px solid gray;box-sizing: border-box;top: 0;bottom: 0;left: 50%;z-index: -1;}#sk-container-id-8 div.sk-parallel-item {display: flex;flex-direction: column;z-index: 1;position: relative;background-color: white;}#sk-container-id-8 div.sk-parallel-item:first-child::after {align-self: flex-end;width: 50%;}#sk-container-id-8 div.sk-parallel-item:last-child::after {align-self: flex-start;width: 50%;}#sk-container-id-8 div.sk-parallel-item:only-child::after {width: 0;}#sk-container-id-8 div.sk-dashed-wrapped {border: 1px dashed gray;margin: 0 0.4em 0.5em 0.4em;box-sizing: border-box;padding-bottom: 0.4em;background-color: white;}#sk-container-id-8 div.sk-label label {font-family: monospace;font-weight: bold;display: inline-block;line-height: 1.2em;}#sk-container-id-8 div.sk-label-container {text-align: center;}#sk-container-id-8 div.sk-container {/* jupyter's `normalize.less` sets `[hidden] { display: none; }` but bootstrap.min.css set `[hidden] { display: none !important; }` so we also need the `!important` here to be able to override the default hidden behavior on the sphinx rendered scikit-learn.org. See: https://github.com/scikit-learn/scikit-learn/issues/21755 */display: inline-block !important;position: relative;}#sk-container-id-8 div.sk-text-repr-fallback {display: none;}</style><div id=\"sk-container-id-8\" class=\"sk-top-container\"><div class=\"sk-text-repr-fallback\"><pre>GradientBoostingClassifier(learning_rate=1.5, max_depth=1, n_estimators=50,\n",
       "                           random_state=0)</pre><b>In a Jupyter environment, please rerun this cell to show the HTML representation or trust the notebook. <br />On GitHub, the HTML representation is unable to render, please try loading this page with nbviewer.org.</b></div><div class=\"sk-container\" hidden><div class=\"sk-item\"><div class=\"sk-estimator sk-toggleable\"><input class=\"sk-toggleable__control sk-hidden--visually\" id=\"sk-estimator-id-28\" type=\"checkbox\" checked><label for=\"sk-estimator-id-28\" class=\"sk-toggleable__label sk-toggleable__label-arrow\">GradientBoostingClassifier</label><div class=\"sk-toggleable__content\"><pre>GradientBoostingClassifier(learning_rate=1.5, max_depth=1, n_estimators=50,\n",
       "                           random_state=0)</pre></div></div></div></div></div>"
      ],
      "text/plain": [
       "GradientBoostingClassifier(learning_rate=1.5, max_depth=1, n_estimators=50,\n",
       "                           random_state=0)"
      ]
     },
     "execution_count": 57,
     "metadata": {},
     "output_type": "execute_result"
    }
   ],
   "source": [
    "# Initializing the GradientBoostingClassifier\n",
    "gbc = GradientBoostingClassifier(n_estimators=50, learning_rate=1.5, max_depth=1, random_state=0)\n",
    "gbc.fit(x_train, y_train)\n"
   ]
  },
  {
   "cell_type": "code",
   "execution_count": 58,
   "id": "93659318-c110-4e44-9e16-acbcbc68c344",
   "metadata": {},
   "outputs": [
    {
     "name": "stdout",
     "output_type": "stream",
     "text": [
      "Cross-Validation Scores: [0.99968711 0.5        0.66624922 1.         1.        ]\n",
      "Average ROC AUC Score: 0.8331872652337025\n"
     ]
    }
   ],
   "source": [
    "# Perform cross-validation on the training set\n",
    "scores = cross_val_score(gbc, x_train, y_train, cv=5, scoring='roc_auc')  # Using ROC AUC as scoring metric\n",
    "\n",
    "print(\"Cross-Validation Scores:\", scores)\n",
    "print(\"Average ROC AUC Score:\", scores.mean())"
   ]
  },
  {
   "cell_type": "code",
   "execution_count": 67,
   "id": "8f35d8c3-abd7-47b1-abe3-34d02f221ecb",
   "metadata": {},
   "outputs": [],
   "source": [
    "# Define the parameter grid for grid search\n",
    "param_grid_gb = {\n",
    "    'n_estimators': [10,50, 90],\n",
    "    'learning_rate': [0.1],\n",
    "    'max_depth': [3, 5],\n",
    "    'min_samples_split': [2, 5],\n",
    "    'min_samples_leaf': [1, 2]\n",
    "}\n"
   ]
  },
  {
   "cell_type": "code",
   "execution_count": 68,
   "id": "e5e4a160-f60c-4271-97e7-b5b2d6e7b345",
   "metadata": {},
   "outputs": [
    {
     "data": {
      "text/html": [
       "<style>#sk-container-id-10 {color: black;background-color: white;}#sk-container-id-10 pre{padding: 0;}#sk-container-id-10 div.sk-toggleable {background-color: white;}#sk-container-id-10 label.sk-toggleable__label {cursor: pointer;display: block;width: 100%;margin-bottom: 0;padding: 0.3em;box-sizing: border-box;text-align: center;}#sk-container-id-10 label.sk-toggleable__label-arrow:before {content: \"▸\";float: left;margin-right: 0.25em;color: #696969;}#sk-container-id-10 label.sk-toggleable__label-arrow:hover:before {color: black;}#sk-container-id-10 div.sk-estimator:hover label.sk-toggleable__label-arrow:before {color: black;}#sk-container-id-10 div.sk-toggleable__content {max-height: 0;max-width: 0;overflow: hidden;text-align: left;background-color: #f0f8ff;}#sk-container-id-10 div.sk-toggleable__content pre {margin: 0.2em;color: black;border-radius: 0.25em;background-color: #f0f8ff;}#sk-container-id-10 input.sk-toggleable__control:checked~div.sk-toggleable__content {max-height: 200px;max-width: 100%;overflow: auto;}#sk-container-id-10 input.sk-toggleable__control:checked~label.sk-toggleable__label-arrow:before {content: \"▾\";}#sk-container-id-10 div.sk-estimator input.sk-toggleable__control:checked~label.sk-toggleable__label {background-color: #d4ebff;}#sk-container-id-10 div.sk-label input.sk-toggleable__control:checked~label.sk-toggleable__label {background-color: #d4ebff;}#sk-container-id-10 input.sk-hidden--visually {border: 0;clip: rect(1px 1px 1px 1px);clip: rect(1px, 1px, 1px, 1px);height: 1px;margin: -1px;overflow: hidden;padding: 0;position: absolute;width: 1px;}#sk-container-id-10 div.sk-estimator {font-family: monospace;background-color: #f0f8ff;border: 1px dotted black;border-radius: 0.25em;box-sizing: border-box;margin-bottom: 0.5em;}#sk-container-id-10 div.sk-estimator:hover {background-color: #d4ebff;}#sk-container-id-10 div.sk-parallel-item::after {content: \"\";width: 100%;border-bottom: 1px solid gray;flex-grow: 1;}#sk-container-id-10 div.sk-label:hover label.sk-toggleable__label {background-color: #d4ebff;}#sk-container-id-10 div.sk-serial::before {content: \"\";position: absolute;border-left: 1px solid gray;box-sizing: border-box;top: 0;bottom: 0;left: 50%;z-index: 0;}#sk-container-id-10 div.sk-serial {display: flex;flex-direction: column;align-items: center;background-color: white;padding-right: 0.2em;padding-left: 0.2em;position: relative;}#sk-container-id-10 div.sk-item {position: relative;z-index: 1;}#sk-container-id-10 div.sk-parallel {display: flex;align-items: stretch;justify-content: center;background-color: white;position: relative;}#sk-container-id-10 div.sk-item::before, #sk-container-id-10 div.sk-parallel-item::before {content: \"\";position: absolute;border-left: 1px solid gray;box-sizing: border-box;top: 0;bottom: 0;left: 50%;z-index: -1;}#sk-container-id-10 div.sk-parallel-item {display: flex;flex-direction: column;z-index: 1;position: relative;background-color: white;}#sk-container-id-10 div.sk-parallel-item:first-child::after {align-self: flex-end;width: 50%;}#sk-container-id-10 div.sk-parallel-item:last-child::after {align-self: flex-start;width: 50%;}#sk-container-id-10 div.sk-parallel-item:only-child::after {width: 0;}#sk-container-id-10 div.sk-dashed-wrapped {border: 1px dashed gray;margin: 0 0.4em 0.5em 0.4em;box-sizing: border-box;padding-bottom: 0.4em;background-color: white;}#sk-container-id-10 div.sk-label label {font-family: monospace;font-weight: bold;display: inline-block;line-height: 1.2em;}#sk-container-id-10 div.sk-label-container {text-align: center;}#sk-container-id-10 div.sk-container {/* jupyter's `normalize.less` sets `[hidden] { display: none; }` but bootstrap.min.css set `[hidden] { display: none !important; }` so we also need the `!important` here to be able to override the default hidden behavior on the sphinx rendered scikit-learn.org. See: https://github.com/scikit-learn/scikit-learn/issues/21755 */display: inline-block !important;position: relative;}#sk-container-id-10 div.sk-text-repr-fallback {display: none;}</style><div id=\"sk-container-id-10\" class=\"sk-top-container\"><div class=\"sk-text-repr-fallback\"><pre>RandomizedSearchCV(cv=3, estimator=GradientBoostingClassifier(), n_jobs=-1,\n",
       "                   param_distributions={&#x27;learning_rate&#x27;: [0.1],\n",
       "                                        &#x27;max_depth&#x27;: [3, 5],\n",
       "                                        &#x27;min_samples_leaf&#x27;: [1, 2],\n",
       "                                        &#x27;min_samples_split&#x27;: [2, 5],\n",
       "                                        &#x27;n_estimators&#x27;: [10, 50, 100]},\n",
       "                   random_state=42, scoring=&#x27;roc_auc&#x27;)</pre><b>In a Jupyter environment, please rerun this cell to show the HTML representation or trust the notebook. <br />On GitHub, the HTML representation is unable to render, please try loading this page with nbviewer.org.</b></div><div class=\"sk-container\" hidden><div class=\"sk-item sk-dashed-wrapped\"><div class=\"sk-label-container\"><div class=\"sk-label sk-toggleable\"><input class=\"sk-toggleable__control sk-hidden--visually\" id=\"sk-estimator-id-32\" type=\"checkbox\" ><label for=\"sk-estimator-id-32\" class=\"sk-toggleable__label sk-toggleable__label-arrow\">RandomizedSearchCV</label><div class=\"sk-toggleable__content\"><pre>RandomizedSearchCV(cv=3, estimator=GradientBoostingClassifier(), n_jobs=-1,\n",
       "                   param_distributions={&#x27;learning_rate&#x27;: [0.1],\n",
       "                                        &#x27;max_depth&#x27;: [3, 5],\n",
       "                                        &#x27;min_samples_leaf&#x27;: [1, 2],\n",
       "                                        &#x27;min_samples_split&#x27;: [2, 5],\n",
       "                                        &#x27;n_estimators&#x27;: [10, 50, 100]},\n",
       "                   random_state=42, scoring=&#x27;roc_auc&#x27;)</pre></div></div></div><div class=\"sk-parallel\"><div class=\"sk-parallel-item\"><div class=\"sk-item\"><div class=\"sk-label-container\"><div class=\"sk-label sk-toggleable\"><input class=\"sk-toggleable__control sk-hidden--visually\" id=\"sk-estimator-id-33\" type=\"checkbox\" ><label for=\"sk-estimator-id-33\" class=\"sk-toggleable__label sk-toggleable__label-arrow\">estimator: GradientBoostingClassifier</label><div class=\"sk-toggleable__content\"><pre>GradientBoostingClassifier()</pre></div></div></div><div class=\"sk-serial\"><div class=\"sk-item\"><div class=\"sk-estimator sk-toggleable\"><input class=\"sk-toggleable__control sk-hidden--visually\" id=\"sk-estimator-id-34\" type=\"checkbox\" ><label for=\"sk-estimator-id-34\" class=\"sk-toggleable__label sk-toggleable__label-arrow\">GradientBoostingClassifier</label><div class=\"sk-toggleable__content\"><pre>GradientBoostingClassifier()</pre></div></div></div></div></div></div></div></div></div></div>"
      ],
      "text/plain": [
       "RandomizedSearchCV(cv=3, estimator=GradientBoostingClassifier(), n_jobs=-1,\n",
       "                   param_distributions={'learning_rate': [0.1],\n",
       "                                        'max_depth': [3, 5],\n",
       "                                        'min_samples_leaf': [1, 2],\n",
       "                                        'min_samples_split': [2, 5],\n",
       "                                        'n_estimators': [10, 50, 100]},\n",
       "                   random_state=42, scoring='roc_auc')"
      ]
     },
     "execution_count": 68,
     "metadata": {},
     "output_type": "execute_result"
    }
   ],
   "source": [
    "# Using RandomizedSearchCV\n",
    "random_search_gb = RandomizedSearchCV(GradientBoostingClassifier(), param_grid_gb, \n",
    "                                      n_iter=10, cv=3, scoring='roc_auc', n_jobs=-1, random_state=42)\n",
    "random_search_gb.fit(x_train, y_train)"
   ]
  },
  {
   "cell_type": "code",
   "execution_count": 69,
   "id": "2f17d8fe-5cf2-4042-ac93-9a414ec5f4a6",
   "metadata": {},
   "outputs": [
    {
     "name": "stdout",
     "output_type": "stream",
     "text": [
      "Best Parameters: {'n_estimators': 10, 'min_samples_split': 2, 'min_samples_leaf': 1, 'max_depth': 3, 'learning_rate': 0.1}\n",
      "Best Cross-Validation ROC AUC: 0.8974705735036314\n"
     ]
    }
   ],
   "source": [
    "\n",
    "print(\"Best Parameters:\", random_search_gb.best_params_)\n",
    "print(\"Best Cross-Validation ROC AUC:\", random_search_gb.best_score_)\n"
   ]
  },
  {
   "cell_type": "code",
   "execution_count": 71,
   "id": "2294dec3-d221-44b2-9d5f-ea5a9e78a5e5",
   "metadata": {},
   "outputs": [],
   "source": [
    "\n",
    "best_gb_model = random_search_gb.best_estimator_\n",
    "y_pred_gb = random_search_gb.predict(x_test)\n"
   ]
  },
  {
   "cell_type": "code",
   "execution_count": 72,
   "id": "9174c38f-12ca-4df2-8397-be6507591496",
   "metadata": {},
   "outputs": [
    {
     "name": "stdout",
     "output_type": "stream",
     "text": [
      "Test ROC AUC: 0.999248873309965\n",
      "Test Metrics Report:\n",
      "               precision    recall  f1-score   support\n",
      "\n",
      "   Not Fraud       1.00      1.00      1.00      1997\n",
      "       Fraud       0.50      0.67      0.57         3\n",
      "\n",
      "    accuracy                           1.00      2000\n",
      "   macro avg       0.75      0.83      0.79      2000\n",
      "weighted avg       1.00      1.00      1.00      2000\n",
      "\n"
     ]
    }
   ],
   "source": [
    "\n",
    "# Assuming you have the predicted probabilities for the positive class\n",
    "y_pred_proba_gb = best_gb_model.predict_proba(x_test)[:, 1]\n",
    "print(\"Test ROC AUC:\", roc_auc_score(y_test, y_pred_proba_gb))\n",
    "\n",
    "print(\"Test Metrics Report:\\n\", classification_report(y_test, y_pred_gb, target_names=['Not Fraud', 'Fraud']))"
   ]
  },
  {
   "cell_type": "markdown",
   "id": "cf7504ab-22ee-4dc8-8923-25a7b67af571",
   "metadata": {},
   "source": [
    "### Insights"
   ]
  },
  {
   "cell_type": "markdown",
   "id": "d89eaf2d-49b7-482b-b341-5e813c18bcd9",
   "metadata": {},
   "source": [
    "1. Precision for 'Fraud': At 0.50, the model's precision for the fraud class is moderate. This means that when it predicts a transaction as fraud, it is correct 50% of the time.\n",
    "2. Recall for 'Fraud': The recall of 0.67 for the fraud class is more encouraging. It indicates the model is able to identify 67% of the actual fraud cases.\n",
    "3. F1-Score for 'Fraud': The F1-score, which balances precision and recall, is 0.57 for the fraud class. This is a moderate score and suggests room for improvement, especially in terms of precision.\n",
    "4. The average ROC AUC score from cross-validation is approximately 0.833, which is decent but not excellent."
   ]
  },
  {
   "cell_type": "code",
   "execution_count": 73,
   "id": "a0dead49-0d41-4e43-8258-0162432f7759",
   "metadata": {},
   "outputs": [
    {
     "data": {
      "text/html": [
       "<div>\n",
       "<style scoped>\n",
       "    .dataframe tbody tr th:only-of-type {\n",
       "        vertical-align: middle;\n",
       "    }\n",
       "\n",
       "    .dataframe tbody tr th {\n",
       "        vertical-align: top;\n",
       "    }\n",
       "\n",
       "    .dataframe thead th {\n",
       "        text-align: right;\n",
       "    }\n",
       "</style>\n",
       "<table border=\"1\" class=\"dataframe\">\n",
       "  <thead>\n",
       "    <tr style=\"text-align: right;\">\n",
       "      <th></th>\n",
       "      <th>Method</th>\n",
       "      <th>Best c.v Accuracy</th>\n",
       "    </tr>\n",
       "  </thead>\n",
       "  <tbody>\n",
       "    <tr>\n",
       "      <th>0</th>\n",
       "      <td>Gradient Boosting</td>\n",
       "      <td>0.897471</td>\n",
       "    </tr>\n",
       "  </tbody>\n",
       "</table>\n",
       "</div>"
      ],
      "text/plain": [
       "              Method Best c.v Accuracy\n",
       "0  Gradient Boosting          0.897471"
      ]
     },
     "execution_count": 73,
     "metadata": {},
     "output_type": "execute_result"
    }
   ],
   "source": [
    "\n",
    "gb_results = pd.DataFrame(['Gradient Boosting',  random_search_gb.best_score_]).transpose()\n",
    "gb_results.columns = ['Method', 'Best c.v Accuracy']\n",
    "gb_results\n"
   ]
  },
  {
   "cell_type": "markdown",
   "id": "45315b62-00b5-4774-bd5b-32fa791141bd",
   "metadata": {},
   "source": [
    "## Making a neural network"
   ]
  },
  {
   "cell_type": "code",
   "execution_count": 13,
   "id": "47731c8c-a4d8-456b-932f-276efdde9d8e",
   "metadata": {},
   "outputs": [],
   "source": [
    "import numpy as np\n",
    "import tensorflow as tf\n",
    "from tensorflow.keras.models import Sequential\n",
    "from tensorflow.keras.layers import Dense, Dropout, BatchNormalization\n",
    "from tensorflow.keras.optimizers import Adam\n",
    "from sklearn.model_selection import train_test_split\n",
    "from sklearn.metrics import classification_report, roc_auc_score\n",
    "from sklearn.utils.class_weight import compute_class_weight\n"
   ]
  },
  {
   "cell_type": "code",
   "execution_count": 26,
   "id": "7a78617f-5c77-4227-93b3-c550c63c1601",
   "metadata": {},
   "outputs": [],
   "source": [
    "# Splitting the data\n",
    "x_train, x_val, y_train, y_val = train_test_split(x_train, y_train, test_size=0.2, random_state=42)\n"
   ]
  },
  {
   "cell_type": "code",
   "execution_count": 27,
   "id": "5ce98642-e0d9-4752-b6fa-2ce036d269e7",
   "metadata": {},
   "outputs": [],
   "source": [
    "\n",
    "# Compute class weights\n",
    "class_weights = compute_class_weight('balanced', classes=np.unique(y_train), y=y_train)\n",
    "class_weights_dict = dict(enumerate(class_weights))\n",
    "\n"
   ]
  },
  {
   "cell_type": "code",
   "execution_count": 29,
   "id": "8b7138ca-f438-4f85-ae15-3d9d93c1b85b",
   "metadata": {},
   "outputs": [],
   "source": [
    "# Building the model\n",
    "model = Sequential([\n",
    "    Dense(256, activation='relu', input_shape=(x_train.shape[1],)),\n",
    "    BatchNormalization(),\n",
    "    Dropout(0.5),\n",
    "    Dense(128, activation='relu'),\n",
    "    BatchNormalization(),\n",
    "    Dropout(0.5),\n",
    "    Dense(64, activation='relu'),\n",
    "    BatchNormalization(),\n",
    "    Dropout(0.5),\n",
    "    Dense(1, activation='sigmoid')\n",
    "])"
   ]
  },
  {
   "cell_type": "code",
   "execution_count": 30,
   "id": "b05a2d0e-a993-4e7f-bf2e-3e9ebb3adb9f",
   "metadata": {},
   "outputs": [],
   "source": [
    "# Compile the model\n",
    "model.compile(optimizer=Adam(learning_rate=0.001), \n",
    "              loss='binary_crossentropy', \n",
    "              metrics=['accuracy', tf.keras.metrics.AUC(name='auc')])\n"
   ]
  },
  {
   "cell_type": "code",
   "execution_count": 31,
   "id": "937c1de2-a83c-41d2-928d-bcf194f904c6",
   "metadata": {},
   "outputs": [
    {
     "name": "stdout",
     "output_type": "stream",
     "text": [
      "Epoch 1/30\n",
      "\u001b[1m160/160\u001b[0m \u001b[32m━━━━━━━━━━━━━━━━━━━━\u001b[0m\u001b[37m\u001b[0m \u001b[1m26s\u001b[0m 36ms/step - accuracy: 0.5533 - auc: 0.7231 - loss: 0.6268 - val_accuracy: 0.9211 - val_auc: 0.7594 - val_loss: 0.4066\n",
      "Epoch 2/30\n",
      "\u001b[1m160/160\u001b[0m \u001b[32m━━━━━━━━━━━━━━━━━━━━\u001b[0m\u001b[37m\u001b[0m \u001b[1m3s\u001b[0m 18ms/step - accuracy: 0.6677 - auc: 0.8612 - loss: 0.4546 - val_accuracy: 0.9969 - val_auc: 0.7866 - val_loss: 0.2497\n",
      "Epoch 3/30\n",
      "\u001b[1m160/160\u001b[0m \u001b[32m━━━━━━━━━━━━━━━━━━━━\u001b[0m\u001b[37m\u001b[0m \u001b[1m4s\u001b[0m 21ms/step - accuracy: 0.7216 - auc: 0.9734 - loss: 0.3317 - val_accuracy: 0.9969 - val_auc: 0.8658 - val_loss: 0.2012\n",
      "Epoch 4/30\n",
      "\u001b[1m160/160\u001b[0m \u001b[32m━━━━━━━━━━━━━━━━━━━━\u001b[0m\u001b[37m\u001b[0m \u001b[1m3s\u001b[0m 20ms/step - accuracy: 0.7600 - auc: 0.9558 - loss: 0.3654 - val_accuracy: 0.9977 - val_auc: 0.9757 - val_loss: 0.1855\n",
      "Epoch 5/30\n",
      "\u001b[1m160/160\u001b[0m \u001b[32m━━━━━━━━━━━━━━━━━━━━\u001b[0m\u001b[37m\u001b[0m \u001b[1m4s\u001b[0m 22ms/step - accuracy: 0.8021 - auc: 0.8914 - loss: 0.3507 - val_accuracy: 0.9984 - val_auc: 0.7502 - val_loss: 0.1142\n",
      "Epoch 6/30\n",
      "\u001b[1m160/160\u001b[0m \u001b[32m━━━━━━━━━━━━━━━━━━━━\u001b[0m\u001b[37m\u001b[0m \u001b[1m4s\u001b[0m 21ms/step - accuracy: 0.8222 - auc: 0.8437 - loss: 0.2500 - val_accuracy: 0.9977 - val_auc: 0.9832 - val_loss: 0.1156\n",
      "Epoch 7/30\n",
      "\u001b[1m160/160\u001b[0m \u001b[32m━━━━━━━━━━━━━━━━━━━━\u001b[0m\u001b[37m\u001b[0m \u001b[1m3s\u001b[0m 19ms/step - accuracy: 0.8798 - auc: 0.9522 - loss: 0.1839 - val_accuracy: 0.9961 - val_auc: 0.9499 - val_loss: 0.0927\n",
      "Epoch 8/30\n",
      "\u001b[1m160/160\u001b[0m \u001b[32m━━━━━━━━━━━━━━━━━━━━\u001b[0m\u001b[37m\u001b[0m \u001b[1m3s\u001b[0m 18ms/step - accuracy: 0.8685 - auc: 0.9100 - loss: 0.2818 - val_accuracy: 0.9984 - val_auc: 0.9433 - val_loss: 0.0851\n",
      "Epoch 9/30\n",
      "\u001b[1m160/160\u001b[0m \u001b[32m━━━━━━━━━━━━━━━━━━━━\u001b[0m\u001b[37m\u001b[0m \u001b[1m5s\u001b[0m 19ms/step - accuracy: 0.9021 - auc: 0.9695 - loss: 0.2030 - val_accuracy: 0.9953 - val_auc: 0.9394 - val_loss: 0.0809\n",
      "Epoch 10/30\n",
      "\u001b[1m160/160\u001b[0m \u001b[32m━━━━━━━━━━━━━━━━━━━━\u001b[0m\u001b[37m\u001b[0m \u001b[1m5s\u001b[0m 19ms/step - accuracy: 0.9149 - auc: 0.9706 - loss: 0.2436 - val_accuracy: 0.9992 - val_auc: 0.9687 - val_loss: 0.0771\n",
      "Epoch 11/30\n",
      "\u001b[1m160/160\u001b[0m \u001b[32m━━━━━━━━━━━━━━━━━━━━\u001b[0m\u001b[37m\u001b[0m \u001b[1m5s\u001b[0m 18ms/step - accuracy: 0.9178 - auc: 0.9471 - loss: 0.1344 - val_accuracy: 0.9992 - val_auc: 0.9961 - val_loss: 0.0520\n",
      "Epoch 12/30\n",
      "\u001b[1m160/160\u001b[0m \u001b[32m━━━━━━━━━━━━━━━━━━━━\u001b[0m\u001b[37m\u001b[0m \u001b[1m3s\u001b[0m 19ms/step - accuracy: 0.9322 - auc: 0.9596 - loss: 0.1235 - val_accuracy: 0.9992 - val_auc: 0.9965 - val_loss: 0.0440\n",
      "Epoch 13/30\n",
      "\u001b[1m160/160\u001b[0m \u001b[32m━━━━━━━━━━━━━━━━━━━━\u001b[0m\u001b[37m\u001b[0m \u001b[1m4s\u001b[0m 22ms/step - accuracy: 0.9516 - auc: 0.8302 - loss: 0.0982 - val_accuracy: 0.9992 - val_auc: 0.9943 - val_loss: 0.0418\n",
      "Epoch 14/30\n",
      "\u001b[1m160/160\u001b[0m \u001b[32m━━━━━━━━━━━━━━━━━━━━\u001b[0m\u001b[37m\u001b[0m \u001b[1m4s\u001b[0m 22ms/step - accuracy: 0.9545 - auc: 0.9224 - loss: 0.1006 - val_accuracy: 0.9992 - val_auc: 0.9957 - val_loss: 0.0347\n",
      "Epoch 15/30\n",
      "\u001b[1m160/160\u001b[0m \u001b[32m━━━━━━━━━━━━━━━━━━━━\u001b[0m\u001b[37m\u001b[0m \u001b[1m3s\u001b[0m 20ms/step - accuracy: 0.9584 - auc: 0.9326 - loss: 0.1574 - val_accuracy: 0.9867 - val_auc: 0.9836 - val_loss: 0.0657\n",
      "Epoch 16/30\n",
      "\u001b[1m160/160\u001b[0m \u001b[32m━━━━━━━━━━━━━━━━━━━━\u001b[0m\u001b[37m\u001b[0m \u001b[1m4s\u001b[0m 24ms/step - accuracy: 0.9405 - auc: 0.6299 - loss: 0.3858 - val_accuracy: 0.9984 - val_auc: 0.9836 - val_loss: 0.0361\n",
      "Epoch 17/30\n",
      "\u001b[1m160/160\u001b[0m \u001b[32m━━━━━━━━━━━━━━━━━━━━\u001b[0m\u001b[37m\u001b[0m \u001b[1m5s\u001b[0m 22ms/step - accuracy: 0.9530 - auc: 0.8608 - loss: 0.0949 - val_accuracy: 0.9984 - val_auc: 0.9701 - val_loss: 0.0369\n",
      "Epoch 18/30\n",
      "\u001b[1m160/160\u001b[0m \u001b[32m━━━━━━━━━━━━━━━━━━━━\u001b[0m\u001b[37m\u001b[0m \u001b[1m4s\u001b[0m 22ms/step - accuracy: 0.9537 - auc: 0.9850 - loss: 0.0891 - val_accuracy: 0.9984 - val_auc: 0.9822 - val_loss: 0.0296\n",
      "Epoch 19/30\n",
      "\u001b[1m160/160\u001b[0m \u001b[32m━━━━━━━━━━━━━━━━━━━━\u001b[0m\u001b[37m\u001b[0m \u001b[1m6s\u001b[0m 26ms/step - accuracy: 0.9520 - auc: 0.9477 - loss: 0.1593 - val_accuracy: 0.9984 - val_auc: 0.9791 - val_loss: 0.0394\n",
      "Epoch 20/30\n",
      "\u001b[1m160/160\u001b[0m \u001b[32m━━━━━━━━━━━━━━━━━━━━\u001b[0m\u001b[37m\u001b[0m \u001b[1m5s\u001b[0m 31ms/step - accuracy: 0.9616 - auc: 0.7789 - loss: 0.0957 - val_accuracy: 0.9992 - val_auc: 0.9926 - val_loss: 0.0265\n",
      "Epoch 21/30\n",
      "\u001b[1m160/160\u001b[0m \u001b[32m━━━━━━━━━━━━━━━━━━━━\u001b[0m\u001b[37m\u001b[0m \u001b[1m4s\u001b[0m 21ms/step - accuracy: 0.9626 - auc: 0.9586 - loss: 0.1606 - val_accuracy: 0.9914 - val_auc: 0.9738 - val_loss: 0.0546\n",
      "Epoch 22/30\n",
      "\u001b[1m160/160\u001b[0m \u001b[32m━━━━━━━━━━━━━━━━━━━━\u001b[0m\u001b[37m\u001b[0m \u001b[1m5s\u001b[0m 27ms/step - accuracy: 0.9517 - auc: 0.9216 - loss: 0.1081 - val_accuracy: 0.9992 - val_auc: 0.9814 - val_loss: 0.0248\n",
      "Epoch 23/30\n",
      "\u001b[1m160/160\u001b[0m \u001b[32m━━━━━━━━━━━━━━━━━━━━\u001b[0m\u001b[37m\u001b[0m \u001b[1m4s\u001b[0m 26ms/step - accuracy: 0.9637 - auc: 0.9298 - loss: 0.0769 - val_accuracy: 0.9930 - val_auc: 0.9959 - val_loss: 0.0408\n",
      "Epoch 24/30\n",
      "\u001b[1m160/160\u001b[0m \u001b[32m━━━━━━━━━━━━━━━━━━━━\u001b[0m\u001b[37m\u001b[0m \u001b[1m5s\u001b[0m 28ms/step - accuracy: 0.9563 - auc: 0.9085 - loss: 0.1067 - val_accuracy: 0.9930 - val_auc: 0.9945 - val_loss: 0.0305\n",
      "Epoch 25/30\n",
      "\u001b[1m160/160\u001b[0m \u001b[32m━━━━━━━━━━━━━━━━━━━━\u001b[0m\u001b[37m\u001b[0m \u001b[1m4s\u001b[0m 24ms/step - accuracy: 0.9645 - auc: 0.8471 - loss: 0.0722 - val_accuracy: 0.9930 - val_auc: 0.9937 - val_loss: 0.0291\n",
      "Epoch 26/30\n",
      "\u001b[1m160/160\u001b[0m \u001b[32m━━━━━━━━━━━━━━━━━━━━\u001b[0m\u001b[37m\u001b[0m \u001b[1m5s\u001b[0m 28ms/step - accuracy: 0.9599 - auc: 0.8979 - loss: 0.0817 - val_accuracy: 0.9953 - val_auc: 0.9957 - val_loss: 0.0233\n",
      "Epoch 27/30\n",
      "\u001b[1m160/160\u001b[0m \u001b[32m━━━━━━━━━━━━━━━━━━━━\u001b[0m\u001b[37m\u001b[0m \u001b[1m5s\u001b[0m 26ms/step - accuracy: 0.9690 - auc: 0.9979 - loss: 0.0681 - val_accuracy: 0.9969 - val_auc: 0.9912 - val_loss: 0.0240\n",
      "Epoch 28/30\n",
      "\u001b[1m160/160\u001b[0m \u001b[32m━━━━━━━━━━━━━━━━━━━━\u001b[0m\u001b[37m\u001b[0m \u001b[1m5s\u001b[0m 33ms/step - accuracy: 0.9611 - auc: 0.8429 - loss: 0.2303 - val_accuracy: 0.9992 - val_auc: 0.9959 - val_loss: 0.0196\n",
      "Epoch 29/30\n",
      "\u001b[1m160/160\u001b[0m \u001b[32m━━━━━━━━━━━━━━━━━━━━\u001b[0m\u001b[37m\u001b[0m \u001b[1m3s\u001b[0m 21ms/step - accuracy: 0.9737 - auc: 0.8864 - loss: 0.0680 - val_accuracy: 0.9922 - val_auc: 0.9844 - val_loss: 0.0332\n",
      "Epoch 30/30\n",
      "\u001b[1m160/160\u001b[0m \u001b[32m━━━━━━━━━━━━━━━━━━━━\u001b[0m\u001b[37m\u001b[0m \u001b[1m4s\u001b[0m 26ms/step - accuracy: 0.9664 - auc: 0.9677 - loss: 0.0597 - val_accuracy: 0.9977 - val_auc: 0.9920 - val_loss: 0.0175\n"
     ]
    }
   ],
   "source": [
    "# Train the model\n",
    "history = model.fit(x_train, y_train, \n",
    "                    epochs=30, \n",
    "                    batch_size=32, \n",
    "                    validation_data=(x_val, y_val), \n",
    "                    class_weight=class_weights_dict, \n",
    "                    verbose=1)"
   ]
  },
  {
   "cell_type": "code",
   "execution_count": 19,
   "id": "9117d154-7d4c-41b0-a009-b1439c5f94f1",
   "metadata": {},
   "outputs": [],
   "source": [
    "\n"
   ]
  },
  {
   "cell_type": "code",
   "execution_count": 20,
   "id": "d656e247-5004-45c1-a245-f8977b32dba3",
   "metadata": {},
   "outputs": [
    {
     "name": "stdout",
     "output_type": "stream",
     "text": [
      "Epoch 1/5\n",
      "\u001b[1m200/200\u001b[0m \u001b[32m━━━━━━━━━━━━━━━━━━━━\u001b[0m\u001b[37m\u001b[0m \u001b[1m4s\u001b[0m 4ms/step - accuracy: 0.5498 - loss: 0.6999 - val_accuracy: 0.8169 - val_loss: 0.4905\n",
      "Epoch 2/5\n",
      "\u001b[1m200/200\u001b[0m \u001b[32m━━━━━━━━━━━━━━━━━━━━\u001b[0m\u001b[37m\u001b[0m \u001b[1m1s\u001b[0m 2ms/step - accuracy: 0.8559 - loss: 0.4698 - val_accuracy: 0.9950 - val_loss: 0.3228\n",
      "Epoch 3/5\n",
      "\u001b[1m200/200\u001b[0m \u001b[32m━━━━━━━━━━━━━━━━━━━━\u001b[0m\u001b[37m\u001b[0m \u001b[1m1s\u001b[0m 3ms/step - accuracy: 0.9979 - loss: 0.2804 - val_accuracy: 0.9987 - val_loss: 0.1768\n",
      "Epoch 4/5\n",
      "\u001b[1m200/200\u001b[0m \u001b[32m━━━━━━━━━━━━━━━━━━━━\u001b[0m\u001b[37m\u001b[0m \u001b[1m1s\u001b[0m 3ms/step - accuracy: 0.9987 - loss: 0.1515 - val_accuracy: 0.9987 - val_loss: 0.0998\n",
      "Epoch 5/5\n",
      "\u001b[1m200/200\u001b[0m \u001b[32m━━━━━━━━━━━━━━━━━━━━\u001b[0m\u001b[37m\u001b[0m \u001b[1m1s\u001b[0m 3ms/step - accuracy: 0.9975 - loss: 0.0875 - val_accuracy: 0.9987 - val_loss: 0.0622\n"
     ]
    },
    {
     "data": {
      "text/plain": [
       "<keras.src.callbacks.history.History at 0x1f6067075d0>"
      ]
     },
     "execution_count": 20,
     "metadata": {},
     "output_type": "execute_result"
    }
   ],
   "source": [
    "shallow_nn.fit(x_train, y_train, validation_data=(x_val, y_val), epochs=5, callbacks=[checkpoint])\n"
   ]
  },
  {
   "cell_type": "markdown",
   "id": "ab908d31-bdbb-4c2c-810e-eb0c9be4bf53",
   "metadata": {},
   "source": [
    "### making predictions"
   ]
  },
  {
   "cell_type": "code",
   "execution_count": 32,
   "id": "b1fb91a2-5840-4b41-86cb-e45b79356216",
   "metadata": {},
   "outputs": [
    {
     "name": "stdout",
     "output_type": "stream",
     "text": [
      "\u001b[1m40/40\u001b[0m \u001b[32m━━━━━━━━━━━━━━━━━━━━\u001b[0m\u001b[37m\u001b[0m \u001b[1m1s\u001b[0m 7ms/step\n"
     ]
    }
   ],
   "source": [
    "# Predict probabilities\n",
    "y_pred_proba = model.predict(x_val).flatten()\n"
   ]
  },
  {
   "cell_type": "code",
   "execution_count": 33,
   "id": "900753a0-3ee0-48cb-b50a-bb4323d62954",
   "metadata": {},
   "outputs": [
    {
     "name": "stdout",
     "output_type": "stream",
     "text": [
      "Optimal threshold: 0.05\n"
     ]
    }
   ],
   "source": [
    "# Find the optimal threshold\n",
    "thresholds = np.arange(0.0, 1.0, 0.01)\n",
    "scores = [roc_auc_score(y_val, (y_pred_proba > t).astype(int)) for t in thresholds]\n",
    "optimal_threshold = thresholds[np.argmax(scores)]\n",
    "print(f\"Optimal threshold: {optimal_threshold}\")\n"
   ]
  },
  {
   "cell_type": "code",
   "execution_count": 35,
   "id": "04bb1340-e925-4e91-bdbf-cf84395d5af2",
   "metadata": {},
   "outputs": [],
   "source": [
    "\n",
    "# Apply the optimal threshold\n",
    "y_pred_optimized = (y_pred_proba > optimal_threshold).astype(int)"
   ]
  },
  {
   "cell_type": "code",
   "execution_count": 36,
   "id": "82311f31-c2f2-47e0-9e69-633ad0f1f07c",
   "metadata": {},
   "outputs": [
    {
     "name": "stdout",
     "output_type": "stream",
     "text": [
      "Optimized Classification Report:\n",
      "              precision    recall  f1-score   support\n",
      "\n",
      "   Not Fraud       1.00      0.98      0.99      1278\n",
      "       Fraud       0.07      1.00      0.12         2\n",
      "\n",
      "    accuracy                           0.98      1280\n",
      "   macro avg       0.53      0.99      0.56      1280\n",
      "weighted avg       1.00      0.98      0.99      1280\n",
      "\n",
      "Optimized ROC AUC Score: 0.9917840375586854\n"
     ]
    }
   ],
   "source": [
    "\n",
    "# Classification report\n",
    "print(\"Optimized Classification Report:\")\n",
    "print(classification_report(y_val, y_pred_optimized, target_names=['Not Fraud', 'Fraud'], zero_division=1))\n",
    "print('Optimized ROC AUC Score:', roc_auc_score(y_val, y_pred_proba))\n"
   ]
  },
  {
   "cell_type": "markdown",
   "id": "0ef80c15-1462-476e-b24f-96c29b4edfb5",
   "metadata": {},
   "source": [
    "# Changing the dataset to be balanced for more analysis"
   ]
  },
  {
   "cell_type": "code",
   "execution_count": 39,
   "id": "34e105dd-9416-4480-8548-08f4e389c5da",
   "metadata": {},
   "outputs": [
    {
     "data": {
      "text/html": [
       "<div>\n",
       "<style scoped>\n",
       "    .dataframe tbody tr th:only-of-type {\n",
       "        vertical-align: middle;\n",
       "    }\n",
       "\n",
       "    .dataframe tbody tr th {\n",
       "        vertical-align: top;\n",
       "    }\n",
       "\n",
       "    .dataframe thead th {\n",
       "        text-align: right;\n",
       "    }\n",
       "</style>\n",
       "<table border=\"1\" class=\"dataframe\">\n",
       "  <thead>\n",
       "    <tr style=\"text-align: right;\">\n",
       "      <th></th>\n",
       "      <th>V1</th>\n",
       "      <th>V2</th>\n",
       "      <th>V3</th>\n",
       "      <th>V4</th>\n",
       "      <th>V5</th>\n",
       "      <th>V6</th>\n",
       "      <th>V7</th>\n",
       "      <th>V8</th>\n",
       "      <th>V9</th>\n",
       "      <th>V10</th>\n",
       "      <th>...</th>\n",
       "      <th>V22</th>\n",
       "      <th>V23</th>\n",
       "      <th>V24</th>\n",
       "      <th>V25</th>\n",
       "      <th>V26</th>\n",
       "      <th>V27</th>\n",
       "      <th>V28</th>\n",
       "      <th>Amount</th>\n",
       "      <th>Class</th>\n",
       "      <th>Time_hours</th>\n",
       "    </tr>\n",
       "  </thead>\n",
       "  <tbody>\n",
       "    <tr>\n",
       "      <th>0</th>\n",
       "      <td>-1.071719</td>\n",
       "      <td>-4.343904</td>\n",
       "      <td>-0.497727</td>\n",
       "      <td>-0.277591</td>\n",
       "      <td>-2.482346</td>\n",
       "      <td>-0.472073</td>\n",
       "      <td>0.991747</td>\n",
       "      <td>-0.414207</td>\n",
       "      <td>1.694252</td>\n",
       "      <td>-1.744176</td>\n",
       "      <td>...</td>\n",
       "      <td>0.013647</td>\n",
       "      <td>-1.183439</td>\n",
       "      <td>0.536058</td>\n",
       "      <td>0.064148</td>\n",
       "      <td>-0.016945</td>\n",
       "      <td>-0.179133</td>\n",
       "      <td>0.236036</td>\n",
       "      <td>35.112713</td>\n",
       "      <td>0</td>\n",
       "      <td>10.356389</td>\n",
       "    </tr>\n",
       "    <tr>\n",
       "      <th>1</th>\n",
       "      <td>1.314915</td>\n",
       "      <td>-0.980378</td>\n",
       "      <td>-0.032665</td>\n",
       "      <td>-2.770975</td>\n",
       "      <td>-1.047365</td>\n",
       "      <td>-0.705180</td>\n",
       "      <td>-0.491240</td>\n",
       "      <td>-0.076395</td>\n",
       "      <td>0.571959</td>\n",
       "      <td>-0.673573</td>\n",
       "      <td>...</td>\n",
       "      <td>-0.481886</td>\n",
       "      <td>-0.009117</td>\n",
       "      <td>0.009622</td>\n",
       "      <td>0.555844</td>\n",
       "      <td>-0.836622</td>\n",
       "      <td>0.099256</td>\n",
       "      <td>0.014826</td>\n",
       "      <td>26.310000</td>\n",
       "      <td>0</td>\n",
       "      <td>13.365278</td>\n",
       "    </tr>\n",
       "    <tr>\n",
       "      <th>2</th>\n",
       "      <td>-1.680526</td>\n",
       "      <td>-0.959150</td>\n",
       "      <td>-1.329705</td>\n",
       "      <td>-1.028361</td>\n",
       "      <td>-0.730922</td>\n",
       "      <td>0.253124</td>\n",
       "      <td>3.308312</td>\n",
       "      <td>-0.480062</td>\n",
       "      <td>0.157630</td>\n",
       "      <td>-2.012017</td>\n",
       "      <td>...</td>\n",
       "      <td>-0.204108</td>\n",
       "      <td>0.517400</td>\n",
       "      <td>-0.611013</td>\n",
       "      <td>-0.445912</td>\n",
       "      <td>-0.409744</td>\n",
       "      <td>0.231809</td>\n",
       "      <td>0.253554</td>\n",
       "      <td>35.112713</td>\n",
       "      <td>0</td>\n",
       "      <td>35.431667</td>\n",
       "    </tr>\n",
       "    <tr>\n",
       "      <th>3</th>\n",
       "      <td>2.114488</td>\n",
       "      <td>0.169976</td>\n",
       "      <td>-2.051966</td>\n",
       "      <td>0.070326</td>\n",
       "      <td>0.481642</td>\n",
       "      <td>-1.819440</td>\n",
       "      <td>0.886700</td>\n",
       "      <td>-0.673729</td>\n",
       "      <td>0.077960</td>\n",
       "      <td>-0.006214</td>\n",
       "      <td>...</td>\n",
       "      <td>0.642597</td>\n",
       "      <td>-0.058720</td>\n",
       "      <td>0.128632</td>\n",
       "      <td>0.461792</td>\n",
       "      <td>0.234073</td>\n",
       "      <td>-0.082360</td>\n",
       "      <td>-0.075323</td>\n",
       "      <td>12.920000</td>\n",
       "      <td>0</td>\n",
       "      <td>42.215278</td>\n",
       "    </tr>\n",
       "    <tr>\n",
       "      <th>4</th>\n",
       "      <td>-5.277692</td>\n",
       "      <td>3.487837</td>\n",
       "      <td>-1.201844</td>\n",
       "      <td>-0.192904</td>\n",
       "      <td>-0.158582</td>\n",
       "      <td>0.949549</td>\n",
       "      <td>0.467901</td>\n",
       "      <td>-0.788434</td>\n",
       "      <td>4.652615</td>\n",
       "      <td>7.407039</td>\n",
       "      <td>...</td>\n",
       "      <td>-1.077669</td>\n",
       "      <td>0.160074</td>\n",
       "      <td>-1.535126</td>\n",
       "      <td>0.873245</td>\n",
       "      <td>-0.322503</td>\n",
       "      <td>1.383375</td>\n",
       "      <td>0.758996</td>\n",
       "      <td>28.900000</td>\n",
       "      <td>0</td>\n",
       "      <td>18.243056</td>\n",
       "    </tr>\n",
       "  </tbody>\n",
       "</table>\n",
       "<p>5 rows × 31 columns</p>\n",
       "</div>"
      ],
      "text/plain": [
       "         V1        V2        V3        V4        V5        V6        V7  \\\n",
       "0 -1.071719 -4.343904 -0.497727 -0.277591 -2.482346 -0.472073  0.991747   \n",
       "1  1.314915 -0.980378 -0.032665 -2.770975 -1.047365 -0.705180 -0.491240   \n",
       "2 -1.680526 -0.959150 -1.329705 -1.028361 -0.730922  0.253124  3.308312   \n",
       "3  2.114488  0.169976 -2.051966  0.070326  0.481642 -1.819440  0.886700   \n",
       "4 -5.277692  3.487837 -1.201844 -0.192904 -0.158582  0.949549  0.467901   \n",
       "\n",
       "         V8        V9       V10  ...       V22       V23       V24       V25  \\\n",
       "0 -0.414207  1.694252 -1.744176  ...  0.013647 -1.183439  0.536058  0.064148   \n",
       "1 -0.076395  0.571959 -0.673573  ... -0.481886 -0.009117  0.009622  0.555844   \n",
       "2 -0.480062  0.157630 -2.012017  ... -0.204108  0.517400 -0.611013 -0.445912   \n",
       "3 -0.673729  0.077960 -0.006214  ...  0.642597 -0.058720  0.128632  0.461792   \n",
       "4 -0.788434  4.652615  7.407039  ... -1.077669  0.160074 -1.535126  0.873245   \n",
       "\n",
       "        V26       V27       V28     Amount  Class  Time_hours  \n",
       "0 -0.016945 -0.179133  0.236036  35.112713      0   10.356389  \n",
       "1 -0.836622  0.099256  0.014826  26.310000      0   13.365278  \n",
       "2 -0.409744  0.231809  0.253554  35.112713      0   35.431667  \n",
       "3  0.234073 -0.082360 -0.075323  12.920000      0   42.215278  \n",
       "4 -0.322503  1.383375  0.758996  28.900000      0   18.243056  \n",
       "\n",
       "[5 rows x 31 columns]"
      ]
     },
     "execution_count": 39,
     "metadata": {},
     "output_type": "execute_result"
    }
   ],
   "source": [
    "df.head()"
   ]
  },
  {
   "cell_type": "code",
   "execution_count": 40,
   "id": "16df5c1e-b978-425a-9473-8b5db5ed3f3a",
   "metadata": {},
   "outputs": [
    {
     "data": {
      "text/plain": [
       "(Class\n",
       " 0    9983\n",
       " Name: count, dtype: int64,\n",
       " Class\n",
       " 1    17\n",
       " Name: count, dtype: int64)"
      ]
     },
     "execution_count": 40,
     "metadata": {},
     "output_type": "execute_result"
    }
   ],
   "source": [
    "not_frauds = df.query('Class == 0')\n",
    "frauds = df.query('Class == 1')\n",
    "\n",
    "not_frauds['Class'].value_counts(),frauds['Class'].value_counts()"
   ]
  },
  {
   "cell_type": "code",
   "execution_count": 42,
   "id": "c07b2e73-c1ae-4ffb-8139-254d195be56a",
   "metadata": {},
   "outputs": [
    {
     "data": {
      "text/plain": [
       "Class\n",
       "1    17\n",
       "0    17\n",
       "Name: count, dtype: int64"
      ]
     },
     "execution_count": 42,
     "metadata": {},
     "output_type": "execute_result"
    }
   ],
   "source": [
    "balanced_df = pd.concat([frauds, not_frauds.sample(len(frauds), random_state=1)])\n",
    "\n",
    "balanced_df['Class'].value_counts()"
   ]
  },
  {
   "cell_type": "markdown",
   "id": "19155346-3390-4ab4-b012-aec1be543bd2",
   "metadata": {},
   "source": [
    "## Trying to reduce bias and variance, and ensuring that the model is exposed to a variety of data samples during training."
   ]
  },
  {
   "cell_type": "code",
   "execution_count": 43,
   "id": "0c1327f2-3054-4165-bc05-cb9b8037740a",
   "metadata": {},
   "outputs": [
    {
     "data": {
      "text/html": [
       "<div>\n",
       "<style scoped>\n",
       "    .dataframe tbody tr th:only-of-type {\n",
       "        vertical-align: middle;\n",
       "    }\n",
       "\n",
       "    .dataframe tbody tr th {\n",
       "        vertical-align: top;\n",
       "    }\n",
       "\n",
       "    .dataframe thead th {\n",
       "        text-align: right;\n",
       "    }\n",
       "</style>\n",
       "<table border=\"1\" class=\"dataframe\">\n",
       "  <thead>\n",
       "    <tr style=\"text-align: right;\">\n",
       "      <th></th>\n",
       "      <th>V1</th>\n",
       "      <th>V2</th>\n",
       "      <th>V3</th>\n",
       "      <th>V4</th>\n",
       "      <th>V5</th>\n",
       "      <th>V6</th>\n",
       "      <th>V7</th>\n",
       "      <th>V8</th>\n",
       "      <th>V9</th>\n",
       "      <th>V10</th>\n",
       "      <th>...</th>\n",
       "      <th>V22</th>\n",
       "      <th>V23</th>\n",
       "      <th>V24</th>\n",
       "      <th>V25</th>\n",
       "      <th>V26</th>\n",
       "      <th>V27</th>\n",
       "      <th>V28</th>\n",
       "      <th>Amount</th>\n",
       "      <th>Class</th>\n",
       "      <th>Time_hours</th>\n",
       "    </tr>\n",
       "  </thead>\n",
       "  <tbody>\n",
       "    <tr>\n",
       "      <th>7526</th>\n",
       "      <td>2.132386</td>\n",
       "      <td>0.705608</td>\n",
       "      <td>-3.530759</td>\n",
       "      <td>0.514779</td>\n",
       "      <td>1.527175</td>\n",
       "      <td>-1.716268</td>\n",
       "      <td>1.132791</td>\n",
       "      <td>-0.574214</td>\n",
       "      <td>0.128904</td>\n",
       "      <td>-1.000805</td>\n",
       "      <td>...</td>\n",
       "      <td>0.703910</td>\n",
       "      <td>-0.245076</td>\n",
       "      <td>0.460049</td>\n",
       "      <td>0.920281</td>\n",
       "      <td>-0.216586</td>\n",
       "      <td>-0.026219</td>\n",
       "      <td>-0.025001</td>\n",
       "      <td>1.000000</td>\n",
       "      <td>1</td>\n",
       "      <td>44.664167</td>\n",
       "    </tr>\n",
       "    <tr>\n",
       "      <th>6859</th>\n",
       "      <td>-1.010592</td>\n",
       "      <td>0.781708</td>\n",
       "      <td>1.451502</td>\n",
       "      <td>-1.371163</td>\n",
       "      <td>-0.138884</td>\n",
       "      <td>-1.162590</td>\n",
       "      <td>0.819465</td>\n",
       "      <td>-0.397794</td>\n",
       "      <td>1.144299</td>\n",
       "      <td>0.730169</td>\n",
       "      <td>...</td>\n",
       "      <td>-0.346326</td>\n",
       "      <td>0.056942</td>\n",
       "      <td>0.385472</td>\n",
       "      <td>-0.153704</td>\n",
       "      <td>0.688347</td>\n",
       "      <td>0.158357</td>\n",
       "      <td>-0.150530</td>\n",
       "      <td>8.480000</td>\n",
       "      <td>0</td>\n",
       "      <td>17.583889</td>\n",
       "    </tr>\n",
       "    <tr>\n",
       "      <th>1543</th>\n",
       "      <td>-24.590245</td>\n",
       "      <td>14.044567</td>\n",
       "      <td>-26.278701</td>\n",
       "      <td>6.320089</td>\n",
       "      <td>-18.224513</td>\n",
       "      <td>-4.609968</td>\n",
       "      <td>-17.681003</td>\n",
       "      <td>16.213627</td>\n",
       "      <td>-3.794093</td>\n",
       "      <td>-8.372753</td>\n",
       "      <td>...</td>\n",
       "      <td>-1.804874</td>\n",
       "      <td>-1.140605</td>\n",
       "      <td>0.152234</td>\n",
       "      <td>1.715997</td>\n",
       "      <td>-0.220471</td>\n",
       "      <td>1.434951</td>\n",
       "      <td>0.422492</td>\n",
       "      <td>99.990000</td>\n",
       "      <td>1</td>\n",
       "      <td>7.551944</td>\n",
       "    </tr>\n",
       "    <tr>\n",
       "      <th>4294</th>\n",
       "      <td>1.780400</td>\n",
       "      <td>-0.549832</td>\n",
       "      <td>0.142401</td>\n",
       "      <td>1.447901</td>\n",
       "      <td>-1.015531</td>\n",
       "      <td>-0.205248</td>\n",
       "      <td>-0.763945</td>\n",
       "      <td>0.128296</td>\n",
       "      <td>1.350898</td>\n",
       "      <td>0.134355</td>\n",
       "      <td>...</td>\n",
       "      <td>0.315447</td>\n",
       "      <td>0.224043</td>\n",
       "      <td>-0.077302</td>\n",
       "      <td>-0.408656</td>\n",
       "      <td>-0.732901</td>\n",
       "      <td>0.064627</td>\n",
       "      <td>-0.009896</td>\n",
       "      <td>76.000000</td>\n",
       "      <td>0</td>\n",
       "      <td>46.527778</td>\n",
       "    </tr>\n",
       "    <tr>\n",
       "      <th>1580</th>\n",
       "      <td>1.165314</td>\n",
       "      <td>-1.807710</td>\n",
       "      <td>-1.244951</td>\n",
       "      <td>0.324087</td>\n",
       "      <td>0.022850</td>\n",
       "      <td>1.961193</td>\n",
       "      <td>-0.533722</td>\n",
       "      <td>0.565793</td>\n",
       "      <td>0.899962</td>\n",
       "      <td>-0.015535</td>\n",
       "      <td>...</td>\n",
       "      <td>0.686288</td>\n",
       "      <td>-0.115973</td>\n",
       "      <td>-0.916350</td>\n",
       "      <td>-0.589977</td>\n",
       "      <td>0.401263</td>\n",
       "      <td>-0.049626</td>\n",
       "      <td>-0.001783</td>\n",
       "      <td>35.112713</td>\n",
       "      <td>0</td>\n",
       "      <td>43.055278</td>\n",
       "    </tr>\n",
       "  </tbody>\n",
       "</table>\n",
       "<p>5 rows × 31 columns</p>\n",
       "</div>"
      ],
      "text/plain": [
       "             V1         V2         V3        V4         V5        V6  \\\n",
       "7526   2.132386   0.705608  -3.530759  0.514779   1.527175 -1.716268   \n",
       "6859  -1.010592   0.781708   1.451502 -1.371163  -0.138884 -1.162590   \n",
       "1543 -24.590245  14.044567 -26.278701  6.320089 -18.224513 -4.609968   \n",
       "4294   1.780400  -0.549832   0.142401  1.447901  -1.015531 -0.205248   \n",
       "1580   1.165314  -1.807710  -1.244951  0.324087   0.022850  1.961193   \n",
       "\n",
       "             V7         V8        V9       V10  ...       V22       V23  \\\n",
       "7526   1.132791  -0.574214  0.128904 -1.000805  ...  0.703910 -0.245076   \n",
       "6859   0.819465  -0.397794  1.144299  0.730169  ... -0.346326  0.056942   \n",
       "1543 -17.681003  16.213627 -3.794093 -8.372753  ... -1.804874 -1.140605   \n",
       "4294  -0.763945   0.128296  1.350898  0.134355  ...  0.315447  0.224043   \n",
       "1580  -0.533722   0.565793  0.899962 -0.015535  ...  0.686288 -0.115973   \n",
       "\n",
       "           V24       V25       V26       V27       V28     Amount  Class  \\\n",
       "7526  0.460049  0.920281 -0.216586 -0.026219 -0.025001   1.000000      1   \n",
       "6859  0.385472 -0.153704  0.688347  0.158357 -0.150530   8.480000      0   \n",
       "1543  0.152234  1.715997 -0.220471  1.434951  0.422492  99.990000      1   \n",
       "4294 -0.077302 -0.408656 -0.732901  0.064627 -0.009896  76.000000      0   \n",
       "1580 -0.916350 -0.589977  0.401263 -0.049626 -0.001783  35.112713      0   \n",
       "\n",
       "      Time_hours  \n",
       "7526   44.664167  \n",
       "6859   17.583889  \n",
       "1543    7.551944  \n",
       "4294   46.527778  \n",
       "1580   43.055278  \n",
       "\n",
       "[5 rows x 31 columns]"
      ]
     },
     "execution_count": 43,
     "metadata": {},
     "output_type": "execute_result"
    }
   ],
   "source": [
    "balanced_df = balanced_df.sample(frac=1, random_state=1)\n",
    "\n",
    "balanced_df.head()"
   ]
  },
  {
   "cell_type": "markdown",
   "id": "78f234df-5027-4021-95aa-e14b397d896c",
   "metadata": {},
   "source": [
    "## Splitting into x and y"
   ]
  },
  {
   "cell_type": "code",
   "execution_count": 44,
   "id": "b248e961-4870-41fb-b043-6a8dd52b9008",
   "metadata": {},
   "outputs": [],
   "source": [
    "x = balanced_df.drop(columns = 'Class', axis=1)\n",
    "\n",
    "y = balanced_df['Class']"
   ]
  },
  {
   "cell_type": "code",
   "execution_count": 45,
   "id": "d1f3d167-aacc-49e3-bb70-c7379df7f2b0",
   "metadata": {},
   "outputs": [
    {
     "data": {
      "text/plain": [
       "Class\n",
       "1    17\n",
       "0    17\n",
       "Name: count, dtype: int64"
      ]
     },
     "execution_count": 45,
     "metadata": {},
     "output_type": "execute_result"
    }
   ],
   "source": [
    "y.value_counts()"
   ]
  },
  {
   "cell_type": "markdown",
   "id": "1e6141fa-e613-419b-978a-7d1c67ee34dc",
   "metadata": {},
   "source": [
    "### Splitting into train and Test"
   ]
  },
  {
   "cell_type": "code",
   "execution_count": 46,
   "id": "e4e101e1-602d-425c-be75-5420dac72ddc",
   "metadata": {},
   "outputs": [],
   "source": [
    "x_train_b, x_test_b, y_train_b, y_test_b = train_test_split(x,y,train_size=0.8)"
   ]
  },
  {
   "cell_type": "markdown",
   "id": "fd0dded7-ed96-463b-8a84-2d0c8d65d641",
   "metadata": {},
   "source": [
    "## Logistic Regression Model"
   ]
  },
  {
   "cell_type": "code",
   "execution_count": 47,
   "id": "20d5b688-adf1-4e77-a0c6-60c9cabf459d",
   "metadata": {},
   "outputs": [
    {
     "name": "stdout",
     "output_type": "stream",
     "text": [
      "Best Parameters: {'logisticregression__C': 0.01, 'logisticregression__class_weight': None, 'logisticregression__penalty': 'l2'}\n",
      "Best Cross-Validation ROC AUC: 0.9925636007827789\n",
      "Cross-Validation ROC AUC Scores: [1.         1.         1.         1.         1.         1.\n",
      " 0.92563601 1.         1.         1.        ]\n",
      "Average ROC AUC Score: 0.9925636007827789\n",
      "Test Metrics Report:\n",
      "               precision    recall  f1-score   support\n",
      "\n",
      "   Not Fraud       1.00      1.00      1.00      1997\n",
      "       Fraud       1.00      0.67      0.80         3\n",
      "\n",
      "    accuracy                           1.00      2000\n",
      "   macro avg       1.00      0.83      0.90      2000\n",
      "weighted avg       1.00      1.00      1.00      2000\n",
      "\n"
     ]
    }
   ],
   "source": [
    "from sklearn.linear_model import LogisticRegression\n",
    "from sklearn.model_selection import cross_val_score, GridSearchCV\n",
    "from sklearn.preprocessing import StandardScaler\n",
    "from sklearn.pipeline import make_pipeline\n",
    "from sklearn.metrics import classification_report\n",
    "import warnings\n",
    "# Filter out future warnings\n",
    "warnings.simplefilter(action='ignore', category=FutureWarning)\n",
    "\n",
    "# Creating a pipeline that scales the data and then applies Logistic Regression\n",
    "pipeline = make_pipeline(StandardScaler(), LogisticRegression(max_iter=1000))\n",
    "\n",
    "# Define the parameter grid for grid search\n",
    "param_grid = {\n",
    "    'logisticregression__C': [0.001, 0.01, 0.1, 1, 10, 30, 50, 80, 100],\n",
    "    'logisticregression__penalty': ['l2'],\n",
    "    'logisticregression__class_weight': [ None,'balanced'] \n",
    "}\n",
    "\n",
    "# Create GridSearchCV object\n",
    "grid_search = GridSearchCV(pipeline, param_grid, cv=10, scoring='roc_auc')\n",
    "\n",
    "# Fit the grid search to the data\n",
    "grid_search.fit(x_train, y_train)\n",
    "\n",
    "# Print the best parameters and the corresponding score\n",
    "print(\"Best Parameters:\", grid_search.best_params_)\n",
    "print(\"Best Cross-Validation ROC AUC:\", grid_search.best_score_)\n",
    "\n",
    "# Get the best model from grid search\n",
    "best_model = grid_search.best_estimator_\n",
    "\n",
    "# Perform cross-validation with the best estimator\n",
    "scores = cross_val_score(best_model, x_train, y_train, cv=10, scoring='roc_auc') \n",
    "print(\"Cross-Validation ROC AUC Scores:\", scores)\n",
    "print(\"Average ROC AUC Score:\", scores.mean())\n",
    "\n",
    "\n",
    "# Predict on the test data\n",
    "y_pred = best_model.predict(x_test)\n",
    "\n",
    "# Print the classification report for test metrics\n",
    "print(\"Test Metrics Report:\\n\", classification_report(y_test, y_pred, target_names=['Not Fraud', 'Fraud']))"
   ]
  },
  {
   "cell_type": "markdown",
   "id": "df0fe81a-f30a-4dad-af7a-3089776348b2",
   "metadata": {},
   "source": [
    "## Random Forest Model"
   ]
  },
  {
   "cell_type": "code",
   "execution_count": 48,
   "id": "1fe3de55-9d60-4cd3-bb11-dd35f74e8e88",
   "metadata": {},
   "outputs": [
    {
     "name": "stdout",
     "output_type": "stream",
     "text": [
      "Cross-Validation ROC AUC Scores: [0.99510763 1.         1.         1.         1.         1.\n",
      " 0.5        1.         1.         1.        ]\n",
      "Average ROC AUC Score: 0.9495107632093933\n",
      "Best Parameters: {'n_estimators': 10, 'min_samples_split': 2, 'min_samples_leaf': 1, 'max_depth': 10}\n",
      "Best ROC AUC: 0.949853228962818\n",
      "Test Metrics Report:\n",
      "               precision    recall  f1-score   support\n",
      "\n",
      "   Not Fraud       1.00      1.00      1.00      1997\n",
      "       Fraud       0.75      1.00      0.86         3\n",
      "\n",
      "    accuracy                           1.00      2000\n",
      "   macro avg       0.88      1.00      0.93      2000\n",
      "weighted avg       1.00      1.00      1.00      2000\n",
      "\n"
     ]
    }
   ],
   "source": [
    "from sklearn.ensemble import RandomForestClassifier\n",
    "from sklearn.model_selection import RandomizedSearchCV\n",
    "import numpy as np\n",
    "\n",
    "# Initializing the RandomForestClassifier\n",
    "randf_model = RandomForestClassifier(n_jobs=-1)\n",
    "\n",
    "\n",
    "# Perform cross-validation on the training set with a more suitable scoring metric\n",
    "scores = cross_val_score(randf_model, x_train, y_train, cv=10, scoring='roc_auc', n_jobs=-1)\n",
    "\n",
    "# Print the scores for each fold and the average score\n",
    "print(\"Cross-Validation ROC AUC Scores:\", scores)\n",
    "print(\"Average ROC AUC Score:\", np.mean(scores))\n",
    "\n",
    "# Define the parameter grid for Random Forest\n",
    "param_grid_rf = {\n",
    "    'n_estimators': [10, 50, 100],\n",
    "    'max_depth': [None, 10, 20],\n",
    "    'min_samples_split': [2, 4],\n",
    "    'min_samples_leaf': [1, 2]\n",
    "}\n",
    "\n",
    "# Using RandomizedSearchCV\n",
    "random_search_rf = RandomizedSearchCV(RandomForestClassifier(n_jobs=-1), \n",
    "                                      param_grid_rf, n_iter=10, cv=5, \n",
    "                                      scoring='roc_auc', n_jobs=-1, random_state=42)\n",
    "\n",
    "random_search_rf.fit(x_train, y_train)\n",
    "\n",
    "# Print the best parameters and score\n",
    "print(\"Best Parameters:\", random_search_rf.best_params_)\n",
    "print(\"Best ROC AUC:\", random_search_rf.best_score_)\n",
    "\n",
    "# Get the best model from grid search\n",
    "best_rf_model = random_search_rf.best_estimator_\n",
    "\n",
    "\n",
    "# Predict on the test data\n",
    "y_pred = best_rf_model.predict(x_test)\n",
    "\n",
    "\n",
    "\n",
    "# Print the classification report for test metrics\n",
    "print(\"Test Metrics Report:\\n\", classification_report(y_test, y_pred, \n",
    "                                        target_names=['Not Fraud', 'Fraud']))\n"
   ]
  },
  {
   "cell_type": "markdown",
   "id": "ef8dc76f-39a3-4841-85d9-9118dd8c5f99",
   "metadata": {},
   "source": [
    "## Gradient Boosting Model"
   ]
  },
  {
   "cell_type": "code",
   "execution_count": 49,
   "id": "c63325cc-fb24-41fc-ad9b-39c8a4eb1499",
   "metadata": {},
   "outputs": [
    {
     "name": "stdout",
     "output_type": "stream",
     "text": [
      "Cross-Validation Scores: [0.74437378 0.99951076 0.99926614 0.5        1.        ]\n",
      "Average ROC AUC Score: 0.8486301369863014\n",
      "Best Parameters: {'n_estimators': 50, 'min_samples_split': 5, 'min_samples_leaf': 1, 'max_depth': 5, 'learning_rate': 0.1}\n",
      "Best Cross-Validation ROC AUC: 0.9024108932317727\n",
      "Test ROC AUC: 0.6664997496244367\n",
      "Test Metrics Report:\n",
      "               precision    recall  f1-score   support\n",
      "\n",
      "   Not Fraud       1.00      1.00      1.00      1997\n",
      "       Fraud       0.67      0.67      0.67         3\n",
      "\n",
      "    accuracy                           1.00      2000\n",
      "   macro avg       0.83      0.83      0.83      2000\n",
      "weighted avg       1.00      1.00      1.00      2000\n",
      "\n"
     ]
    }
   ],
   "source": [
    "from sklearn.ensemble import GradientBoostingClassifier\n",
    "\n",
    "# Initializing the GradientBoostingClassifier\n",
    "gbc = GradientBoostingClassifier(n_estimators=50, learning_rate=1.5, max_depth=1, random_state=0)\n",
    "gbc.fit(x_train, y_train)\n",
    "\n",
    "# Perform cross-validation on the training set\n",
    "scores = cross_val_score(gbc, x_train, y_train, cv=5, scoring='roc_auc')  # Using ROC AUC as scoring metric\n",
    "\n",
    "print(\"Cross-Validation Scores:\", scores)\n",
    "print(\"Average ROC AUC Score:\", scores.mean())\n",
    "\n",
    "# Define the parameter grid for grid search\n",
    "param_grid_gb = {\n",
    "    'n_estimators': [10,50, 90],\n",
    "    'learning_rate': [0.1],\n",
    "    'max_depth': [3, 5],\n",
    "    'min_samples_split': [2, 5],\n",
    "    'min_samples_leaf': [1, 2]\n",
    "}\n",
    "\n",
    "# Using RandomizedSearchCV\n",
    "random_search_gb = RandomizedSearchCV(GradientBoostingClassifier(), param_grid_gb, \n",
    "                                      n_iter=10, cv=3, scoring='roc_auc', n_jobs=-1, random_state=42)\n",
    "random_search_gb.fit(x_train, y_train)\n",
    "\n",
    "print(\"Best Parameters:\", random_search_gb.best_params_)\n",
    "print(\"Best Cross-Validation ROC AUC:\", random_search_gb.best_score_)\n",
    "\n",
    "best_gb_model = random_search_gb.best_estimator_\n",
    "y_pred_gb = random_search_gb.predict(x_test)\n",
    "\n",
    "# Assuming you have the predicted probabilities for the positive class\n",
    "y_pred_proba_gb = best_gb_model.predict_proba(x_test)[:, 1]\n",
    "print(\"Test ROC AUC:\", roc_auc_score(y_test, y_pred_proba_gb))\n",
    "\n",
    "print(\"Test Metrics Report:\\n\", classification_report(y_test, y_pred_gb, target_names=['Not Fraud', 'Fraud']))"
   ]
  },
  {
   "cell_type": "markdown",
   "id": "78c0774b-b51a-485f-b5ec-12553d66eaf3",
   "metadata": {},
   "source": [
    "## A neural network"
   ]
  },
  {
   "cell_type": "code",
   "execution_count": 50,
   "id": "c9305054-3b81-4566-a912-841168bd0b8d",
   "metadata": {},
   "outputs": [
    {
     "name": "stderr",
     "output_type": "stream",
     "text": [
      "C:\\Users\\joshu\\anaconda3\\Lib\\site-packages\\keras\\src\\layers\\core\\dense.py:85: UserWarning: Do not pass an `input_shape`/`input_dim` argument to a layer. When using Sequential models, prefer using an `Input(shape)` object as the first layer in the model instead.\n",
      "  super().__init__(activity_regularizer=activity_regularizer, **kwargs)\n"
     ]
    },
    {
     "name": "stdout",
     "output_type": "stream",
     "text": [
      "Epoch 1/30\n",
      "\u001b[1m128/128\u001b[0m \u001b[32m━━━━━━━━━━━━━━━━━━━━\u001b[0m\u001b[37m\u001b[0m \u001b[1m29s\u001b[0m 60ms/step - accuracy: 0.5218 - auc: 0.6297 - loss: 1.1087 - val_accuracy: 0.7002 - val_auc: 1.0000 - val_loss: 0.5855\n",
      "Epoch 2/30\n",
      "\u001b[1m128/128\u001b[0m \u001b[32m━━━━━━━━━━━━━━━━━━━━\u001b[0m\u001b[37m\u001b[0m \u001b[1m3s\u001b[0m 19ms/step - accuracy: 0.5767 - auc: 0.6652 - loss: 0.6142 - val_accuracy: 0.7178 - val_auc: 1.0000 - val_loss: 0.5598\n",
      "Epoch 3/30\n",
      "\u001b[1m128/128\u001b[0m \u001b[32m━━━━━━━━━━━━━━━━━━━━\u001b[0m\u001b[37m\u001b[0m \u001b[1m2s\u001b[0m 19ms/step - accuracy: 0.6006 - auc: 0.8060 - loss: 0.5446 - val_accuracy: 0.8379 - val_auc: 1.0000 - val_loss: 0.4755\n",
      "Epoch 4/30\n",
      "\u001b[1m128/128\u001b[0m \u001b[32m━━━━━━━━━━━━━━━━━━━━\u001b[0m\u001b[37m\u001b[0m \u001b[1m3s\u001b[0m 21ms/step - accuracy: 0.6431 - auc: 0.8090 - loss: 0.4797 - val_accuracy: 0.9590 - val_auc: 1.0000 - val_loss: 0.3972\n",
      "Epoch 5/30\n",
      "\u001b[1m128/128\u001b[0m \u001b[32m━━━━━━━━━━━━━━━━━━━━\u001b[0m\u001b[37m\u001b[0m \u001b[1m3s\u001b[0m 25ms/step - accuracy: 0.6952 - auc: 0.7283 - loss: 0.5242 - val_accuracy: 0.9531 - val_auc: 1.0000 - val_loss: 0.3132\n",
      "Epoch 6/30\n",
      "\u001b[1m128/128\u001b[0m \u001b[32m━━━━━━━━━━━━━━━━━━━━\u001b[0m\u001b[37m\u001b[0m \u001b[1m3s\u001b[0m 21ms/step - accuracy: 0.7246 - auc: 0.9285 - loss: 0.4022 - val_accuracy: 0.9463 - val_auc: 1.0000 - val_loss: 0.2993\n",
      "Epoch 7/30\n",
      "\u001b[1m128/128\u001b[0m \u001b[32m━━━━━━━━━━━━━━━━━━━━\u001b[0m\u001b[37m\u001b[0m \u001b[1m3s\u001b[0m 19ms/step - accuracy: 0.7567 - auc: 0.8954 - loss: 0.3836 - val_accuracy: 0.9834 - val_auc: 1.0000 - val_loss: 0.2411\n",
      "Epoch 8/30\n",
      "\u001b[1m128/128\u001b[0m \u001b[32m━━━━━━━━━━━━━━━━━━━━\u001b[0m\u001b[37m\u001b[0m \u001b[1m3s\u001b[0m 19ms/step - accuracy: 0.7712 - auc: 0.4396 - loss: 0.2729 - val_accuracy: 0.9863 - val_auc: 1.0000 - val_loss: 0.2337\n",
      "Epoch 9/30\n",
      "\u001b[1m128/128\u001b[0m \u001b[32m━━━━━━━━━━━━━━━━━━━━\u001b[0m\u001b[37m\u001b[0m \u001b[1m4s\u001b[0m 29ms/step - accuracy: 0.8158 - auc: 0.9007 - loss: 0.2900 - val_accuracy: 0.9736 - val_auc: 1.0000 - val_loss: 0.2346\n",
      "Epoch 10/30\n",
      "\u001b[1m128/128\u001b[0m \u001b[32m━━━━━━━━━━━━━━━━━━━━\u001b[0m\u001b[37m\u001b[0m \u001b[1m3s\u001b[0m 24ms/step - accuracy: 0.8341 - auc: 0.8256 - loss: 0.2190 - val_accuracy: 0.9990 - val_auc: 1.0000 - val_loss: 0.1626\n",
      "Epoch 11/30\n",
      "\u001b[1m128/128\u001b[0m \u001b[32m━━━━━━━━━━━━━━━━━━━━\u001b[0m\u001b[37m\u001b[0m \u001b[1m3s\u001b[0m 21ms/step - accuracy: 0.8679 - auc: 0.8425 - loss: 0.1919 - val_accuracy: 0.9941 - val_auc: 1.0000 - val_loss: 0.1519\n",
      "Epoch 12/30\n",
      "\u001b[1m128/128\u001b[0m \u001b[32m━━━━━━━━━━━━━━━━━━━━\u001b[0m\u001b[37m\u001b[0m \u001b[1m6s\u001b[0m 25ms/step - accuracy: 0.8792 - auc: 0.7971 - loss: 0.2709 - val_accuracy: 0.9756 - val_auc: 1.0000 - val_loss: 0.1380\n",
      "Epoch 13/30\n",
      "\u001b[1m128/128\u001b[0m \u001b[32m━━━━━━━━━━━━━━━━━━━━\u001b[0m\u001b[37m\u001b[0m \u001b[1m5s\u001b[0m 21ms/step - accuracy: 0.8694 - auc: 0.8709 - loss: 0.4271 - val_accuracy: 0.9971 - val_auc: 1.0000 - val_loss: 0.1113\n",
      "Epoch 14/30\n",
      "\u001b[1m128/128\u001b[0m \u001b[32m━━━━━━━━━━━━━━━━━━━━\u001b[0m\u001b[37m\u001b[0m \u001b[1m3s\u001b[0m 23ms/step - accuracy: 0.8890 - auc: 0.7991 - loss: 0.3552 - val_accuracy: 0.9951 - val_auc: 1.0000 - val_loss: 0.1050\n",
      "Epoch 15/30\n",
      "\u001b[1m128/128\u001b[0m \u001b[32m━━━━━━━━━━━━━━━━━━━━\u001b[0m\u001b[37m\u001b[0m \u001b[1m3s\u001b[0m 21ms/step - accuracy: 0.9018 - auc: 0.8905 - loss: 0.1800 - val_accuracy: 0.9951 - val_auc: 1.0000 - val_loss: 0.0975\n",
      "Epoch 16/30\n",
      "\u001b[1m128/128\u001b[0m \u001b[32m━━━━━━━━━━━━━━━━━━━━\u001b[0m\u001b[37m\u001b[0m \u001b[1m4s\u001b[0m 26ms/step - accuracy: 0.9110 - auc: 0.9290 - loss: 0.2830 - val_accuracy: 1.0000 - val_auc: 1.0000 - val_loss: 0.0721\n",
      "Epoch 17/30\n",
      "\u001b[1m128/128\u001b[0m \u001b[32m━━━━━━━━━━━━━━━━━━━━\u001b[0m\u001b[37m\u001b[0m \u001b[1m5s\u001b[0m 34ms/step - accuracy: 0.9038 - auc: 0.8616 - loss: 0.2102 - val_accuracy: 1.0000 - val_auc: 1.0000 - val_loss: 0.0792\n",
      "Epoch 18/30\n",
      "\u001b[1m128/128\u001b[0m \u001b[32m━━━━━━━━━━━━━━━━━━━━\u001b[0m\u001b[37m\u001b[0m \u001b[1m4s\u001b[0m 26ms/step - accuracy: 0.9210 - auc: 0.8733 - loss: 0.2023 - val_accuracy: 0.9951 - val_auc: 1.0000 - val_loss: 0.0915\n",
      "Epoch 19/30\n",
      "\u001b[1m128/128\u001b[0m \u001b[32m━━━━━━━━━━━━━━━━━━━━\u001b[0m\u001b[37m\u001b[0m \u001b[1m5s\u001b[0m 21ms/step - accuracy: 0.9112 - auc: 0.9248 - loss: 0.1991 - val_accuracy: 0.9941 - val_auc: 1.0000 - val_loss: 0.0889\n",
      "Epoch 20/30\n",
      "\u001b[1m128/128\u001b[0m \u001b[32m━━━━━━━━━━━━━━━━━━━━\u001b[0m\u001b[37m\u001b[0m \u001b[1m3s\u001b[0m 24ms/step - accuracy: 0.9047 - auc: 0.9886 - loss: 0.1452 - val_accuracy: 0.9971 - val_auc: 1.0000 - val_loss: 0.0789\n",
      "Epoch 21/30\n",
      "\u001b[1m128/128\u001b[0m \u001b[32m━━━━━━━━━━━━━━━━━━━━\u001b[0m\u001b[37m\u001b[0m \u001b[1m3s\u001b[0m 20ms/step - accuracy: 0.9269 - auc: 0.8986 - loss: 0.1151 - val_accuracy: 1.0000 - val_auc: 1.0000 - val_loss: 0.0632\n",
      "Epoch 22/30\n",
      "\u001b[1m128/128\u001b[0m \u001b[32m━━━━━━━━━━━━━━━━━━━━\u001b[0m\u001b[37m\u001b[0m \u001b[1m4s\u001b[0m 27ms/step - accuracy: 0.9435 - auc: 0.8957 - loss: 0.1123 - val_accuracy: 0.9961 - val_auc: 1.0000 - val_loss: 0.0692\n",
      "Epoch 23/30\n",
      "\u001b[1m128/128\u001b[0m \u001b[32m━━━━━━━━━━━━━━━━━━━━\u001b[0m\u001b[37m\u001b[0m \u001b[1m5s\u001b[0m 25ms/step - accuracy: 0.9402 - auc: 0.9755 - loss: 0.1009 - val_accuracy: 1.0000 - val_auc: 1.0000 - val_loss: 0.0516\n",
      "Epoch 24/30\n",
      "\u001b[1m128/128\u001b[0m \u001b[32m━━━━━━━━━━━━━━━━━━━━\u001b[0m\u001b[37m\u001b[0m \u001b[1m3s\u001b[0m 21ms/step - accuracy: 0.9545 - auc: 0.8091 - loss: 0.1323 - val_accuracy: 0.9727 - val_auc: 1.0000 - val_loss: 0.0901\n",
      "Epoch 25/30\n",
      "\u001b[1m128/128\u001b[0m \u001b[32m━━━━━━━━━━━━━━━━━━━━\u001b[0m\u001b[37m\u001b[0m \u001b[1m3s\u001b[0m 21ms/step - accuracy: 0.9280 - auc: 0.8334 - loss: 0.2046 - val_accuracy: 1.0000 - val_auc: 1.0000 - val_loss: 0.0476\n",
      "Epoch 26/30\n",
      "\u001b[1m128/128\u001b[0m \u001b[32m━━━━━━━━━━━━━━━━━━━━\u001b[0m\u001b[37m\u001b[0m \u001b[1m5s\u001b[0m 41ms/step - accuracy: 0.9415 - auc: 0.8753 - loss: 0.0960 - val_accuracy: 0.9990 - val_auc: 1.0000 - val_loss: 0.0480\n",
      "Epoch 27/30\n",
      "\u001b[1m128/128\u001b[0m \u001b[32m━━━━━━━━━━━━━━━━━━━━\u001b[0m\u001b[37m\u001b[0m \u001b[1m3s\u001b[0m 25ms/step - accuracy: 0.9588 - auc: 0.9049 - loss: 0.0896 - val_accuracy: 0.9883 - val_auc: 1.0000 - val_loss: 0.0622\n",
      "Epoch 28/30\n",
      "\u001b[1m128/128\u001b[0m \u001b[32m━━━━━━━━━━━━━━━━━━━━\u001b[0m\u001b[37m\u001b[0m \u001b[1m4s\u001b[0m 34ms/step - accuracy: 0.9370 - auc: 0.9432 - loss: 0.1033 - val_accuracy: 0.9971 - val_auc: 1.0000 - val_loss: 0.0343\n",
      "Epoch 29/30\n",
      "\u001b[1m128/128\u001b[0m \u001b[32m━━━━━━━━━━━━━━━━━━━━\u001b[0m\u001b[37m\u001b[0m \u001b[1m3s\u001b[0m 24ms/step - accuracy: 0.9529 - auc: 0.9827 - loss: 0.0865 - val_accuracy: 1.0000 - val_auc: 1.0000 - val_loss: 0.0291\n",
      "Epoch 30/30\n",
      "\u001b[1m128/128\u001b[0m \u001b[32m━━━━━━━━━━━━━━━━━━━━\u001b[0m\u001b[37m\u001b[0m \u001b[1m3s\u001b[0m 25ms/step - accuracy: 0.9678 - auc: 0.9996 - loss: 0.0653 - val_accuracy: 1.0000 - val_auc: 1.0000 - val_loss: 0.0282\n",
      "\u001b[1m32/32\u001b[0m \u001b[32m━━━━━━━━━━━━━━━━━━━━\u001b[0m\u001b[37m\u001b[0m \u001b[1m2s\u001b[0m 9ms/step\n",
      "Optimal threshold: 0.47000000000000003\n",
      "Optimized Classification Report:\n",
      "              precision    recall  f1-score   support\n",
      "\n",
      "   Not Fraud       1.00      1.00      1.00      1023\n",
      "       Fraud       1.00      1.00      1.00         1\n",
      "\n",
      "    accuracy                           1.00      1024\n",
      "   macro avg       1.00      1.00      1.00      1024\n",
      "weighted avg       1.00      1.00      1.00      1024\n",
      "\n",
      "Optimized ROC AUC Score: 1.0\n"
     ]
    }
   ],
   "source": [
    "import numpy as np\n",
    "import tensorflow as tf\n",
    "from tensorflow.keras.models import Sequential\n",
    "from tensorflow.keras.layers import Dense, Dropout, BatchNormalization\n",
    "from tensorflow.keras.optimizers import Adam\n",
    "from sklearn.model_selection import train_test_split\n",
    "from sklearn.metrics import classification_report, roc_auc_score\n",
    "from sklearn.utils.class_weight import compute_class_weight\n",
    "\n",
    "# Splitting the data\n",
    "x_train, x_val, y_train, y_val = train_test_split(x_train, y_train, test_size=0.2, random_state=42)\n",
    "\n",
    "# Compute class weights\n",
    "class_weights = compute_class_weight('balanced', classes=np.unique(y_train), y=y_train)\n",
    "class_weights_dict = dict(enumerate(class_weights))\n",
    "\n",
    "# Building the model\n",
    "model = Sequential([\n",
    "    Dense(256, activation='relu', input_shape=(x_train.shape[1],)),\n",
    "    BatchNormalization(),\n",
    "    Dropout(0.5),\n",
    "    Dense(128, activation='relu'),\n",
    "    BatchNormalization(),\n",
    "    Dropout(0.5),\n",
    "    Dense(64, activation='relu'),\n",
    "    BatchNormalization(),\n",
    "    Dropout(0.5),\n",
    "    Dense(1, activation='sigmoid')\n",
    "])\n",
    "\n",
    "# Compile the model\n",
    "model.compile(optimizer=Adam(learning_rate=0.001), \n",
    "              loss='binary_crossentropy', \n",
    "              metrics=['accuracy', tf.keras.metrics.AUC(name='auc')])\n",
    "\n",
    "# Train the model\n",
    "history = model.fit(x_train, y_train, \n",
    "                    epochs=30, \n",
    "                    batch_size=32, \n",
    "                    validation_data=(x_val, y_val), \n",
    "                    class_weight=class_weights_dict, \n",
    "                    verbose=1)\n",
    "\n",
    "# Predict probabilities\n",
    "y_pred_proba = model.predict(x_val).flatten()\n",
    "\n",
    "# Find the optimal threshold\n",
    "thresholds = np.arange(0.0, 1.0, 0.01)\n",
    "scores = [roc_auc_score(y_val, (y_pred_proba > t).astype(int)) for t in thresholds]\n",
    "optimal_threshold = thresholds[np.argmax(scores)]\n",
    "print(f\"Optimal threshold: {optimal_threshold}\")\n",
    "\n",
    "\n",
    "# Apply the optimal threshold\n",
    "y_pred_optimized = (y_pred_proba > optimal_threshold).astype(int)\n",
    "\n",
    "\n",
    "# Classification report\n",
    "print(\"Optimized Classification Report:\")\n",
    "print(classification_report(y_val, y_pred_optimized, target_names=['Not Fraud', 'Fraud'], zero_division=1))\n",
    "print('Optimized ROC AUC Score:', roc_auc_score(y_val, y_pred_proba))\n"
   ]
  },
  {
   "cell_type": "markdown",
   "id": "74730ab2-94ab-46b3-b45f-083ab72d456f",
   "metadata": {},
   "source": [
    "# Conclusion:"
   ]
  },
  {
   "cell_type": "markdown",
   "id": "c609a516-093c-4717-a266-6c4766b95163",
   "metadata": {},
   "source": [
    "The Neural Network model demonstrates the best overall performance, particularly in handling the balanced dataset, where it achieves perfect precision and recall for the 'Fraud' class and an ROC AUC score of 1.0. This indicates an exceptional ability to distinguish between fraudulent and non-fraudulent transactions without any false positives or false negatives."
   ]
  },
  {
   "cell_type": "code",
   "execution_count": null,
   "id": "ad11c105-af96-4e40-ab09-0adec5ac667d",
   "metadata": {},
   "outputs": [],
   "source": []
  }
 ],
 "metadata": {
  "kernelspec": {
   "display_name": "Python 3 (ipykernel)",
   "language": "python",
   "name": "python3"
  },
  "language_info": {
   "codemirror_mode": {
    "name": "ipython",
    "version": 3
   },
   "file_extension": ".py",
   "mimetype": "text/x-python",
   "name": "python",
   "nbconvert_exporter": "python",
   "pygments_lexer": "ipython3",
   "version": "3.11.7"
  }
 },
 "nbformat": 4,
 "nbformat_minor": 5
}
